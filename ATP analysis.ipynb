{
 "cells": [
  {
   "cell_type": "markdown",
   "metadata": {},
   "source": [
    "# Grand Slam Analysis"
   ]
  },
  {
   "cell_type": "markdown",
   "metadata": {},
   "source": [
    "## Data cleaning"
   ]
  },
  {
   "cell_type": "code",
   "execution_count": 62,
   "metadata": {},
   "outputs": [
    {
     "data": {
      "text/html": [
       "<script type=\"text/javascript\">window.PlotlyConfig = {MathJaxConfig: 'local'};</script><script type=\"text/javascript\">if (window.MathJax) {MathJax.Hub.Config({SVG: {font: \"STIX-Web\"}});}</script><script>requirejs.config({paths: { 'plotly': ['https://cdn.plot.ly/plotly-latest.min']},});if(!window._Plotly) {require(['plotly'],function(plotly) {window._Plotly=plotly;});}</script>"
      ],
      "text/vnd.plotly.v1+html": [
       "<script type=\"text/javascript\">window.PlotlyConfig = {MathJaxConfig: 'local'};</script><script type=\"text/javascript\">if (window.MathJax) {MathJax.Hub.Config({SVG: {font: \"STIX-Web\"}});}</script><script>requirejs.config({paths: { 'plotly': ['https://cdn.plot.ly/plotly-latest.min']},});if(!window._Plotly) {require(['plotly'],function(plotly) {window._Plotly=plotly;});}</script>"
      ]
     },
     "metadata": {},
     "output_type": "display_data"
    }
   ],
   "source": [
    "import os\n",
    "import pandas as pd\n",
    "import plotly.plotly as py\n",
    "import plotly.graph_objs as go\n",
    "import matplotlib.pyplot as plt\n",
    "import cufflinks as cf\n",
    "from ipywidgets import interact\n",
    "import matplotlib.pyplot as plt\n",
    "import seaborn as sns\n",
    "from scipy import stats\n",
    "\n",
    "\n",
    "cf.go_offline()\n",
    "\n",
    "# switch the working directory\n",
    "os.chdir('/Users/johnngai/Desktop/final_project/ATP_matches_past_10_years_record/')\n",
    "\n",
    "# Read the Grand Slam record csv file\n",
    "data=pd.read_csv('grand_slam_past_10_years.csv')\n",
    "\n",
    "# Function allows full display of columns\n",
    "pd.set_option('display.max_columns',50)\n",
    "\n",
    "# year=data['tourney_date'].apply(lambda x: x.year)"
   ]
  },
  {
   "cell_type": "code",
   "execution_count": 2,
   "metadata": {},
   "outputs": [
    {
     "name": "stdout",
     "output_type": "stream",
     "text": [
      "<class 'pandas.core.frame.DataFrame'>\n",
      "RangeIndex: 5588 entries, 0 to 5587\n",
      "Data columns (total 49 columns):\n",
      "tourney_id            5588 non-null object\n",
      "tourney_name          5588 non-null object\n",
      "surface               5588 non-null object\n",
      "draw_size             5588 non-null float64\n",
      "tourney_level         5588 non-null object\n",
      "tourney_date          5588 non-null float64\n",
      "match_num             5588 non-null float64\n",
      "winner_id             5588 non-null float64\n",
      "winner_seed           3266 non-null float64\n",
      "winner_entry          388 non-null object\n",
      "winner_name           5588 non-null object\n",
      "winner_hand           5588 non-null object\n",
      "winner_ht             5173 non-null float64\n",
      "winner_ioc            5588 non-null object\n",
      "winner_age            5588 non-null float64\n",
      "winner_rank           5588 non-null float64\n",
      "winner_rank_points    5588 non-null float64\n",
      "loser_id              5588 non-null float64\n",
      "loser_seed            1354 non-null float64\n",
      "loser_entry           840 non-null object\n",
      "loser_name            5588 non-null object\n",
      "loser_hand            5588 non-null object\n",
      "loser_ht              4853 non-null float64\n",
      "loser_ioc             5588 non-null object\n",
      "loser_age             5587 non-null float64\n",
      "loser_rank            5580 non-null float64\n",
      "loser_rank_points     5580 non-null float64\n",
      "score                 5588 non-null object\n",
      "best_of               5588 non-null float64\n",
      "round                 5588 non-null object\n",
      "minutes               5316 non-null float64\n",
      "w_ace                 5568 non-null float64\n",
      "w_df                  5568 non-null float64\n",
      "w_svpt                5568 non-null float64\n",
      "w_1stIn               5568 non-null float64\n",
      "w_1stWon              5568 non-null float64\n",
      "w_2ndWon              5568 non-null float64\n",
      "w_SvGms               5568 non-null float64\n",
      "w_bpSaved             5568 non-null float64\n",
      "w_bpFaced             5568 non-null float64\n",
      "l_ace                 5568 non-null float64\n",
      "l_df                  5568 non-null float64\n",
      "l_svpt                5568 non-null float64\n",
      "l_1stIn               5568 non-null float64\n",
      "l_1stWon              5568 non-null float64\n",
      "l_2ndWon              5568 non-null float64\n",
      "l_SvGms               5568 non-null float64\n",
      "l_bpSaved             5568 non-null float64\n",
      "l_bpFaced             5568 non-null float64\n",
      "dtypes: float64(35), object(14)\n",
      "memory usage: 2.1+ MB\n"
     ]
    }
   ],
   "source": [
    "# Preview of data type\n",
    "data.info()\n",
    "\n",
    "# Column incomplete\n",
    "# winner_entry, winner_seed, winner_ht, loser_seed, loser_entry, loser_ht,loser_age, loser_rank, \n",
    "# loser_rank_pints, minutes, all matches' stats\n",
    "\n",
    "# Column remove\n",
    "# winner_entry, winner_seed, loser_seed, loser_entry, winner_age, loser_age, winner_rank_points, loser_rank_points\n",
    "\n",
    "data.drop(columns=['draw_size','match_num','winner_id','winner_seed','winner_entry','winner_age','winner_rank_points','loser_id','loser_seed','loser_entry','loser_age','loser_rank_points','best_of'], inplace=True)"
   ]
  },
  {
   "cell_type": "code",
   "execution_count": 3,
   "metadata": {},
   "outputs": [
    {
     "data": {
      "text/plain": [
       "(5588, 36)"
      ]
     },
     "execution_count": 3,
     "metadata": {},
     "output_type": "execute_result"
    }
   ],
   "source": [
    "data.shape"
   ]
  },
  {
   "cell_type": "code",
   "execution_count": 4,
   "metadata": {},
   "outputs": [
    {
     "data": {
      "text/html": [
       "<div>\n",
       "<style scoped>\n",
       "    .dataframe tbody tr th:only-of-type {\n",
       "        vertical-align: middle;\n",
       "    }\n",
       "\n",
       "    .dataframe tbody tr th {\n",
       "        vertical-align: top;\n",
       "    }\n",
       "\n",
       "    .dataframe thead th {\n",
       "        text-align: right;\n",
       "    }\n",
       "</style>\n",
       "<table border=\"1\" class=\"dataframe\">\n",
       "  <thead>\n",
       "    <tr style=\"text-align: right;\">\n",
       "      <th></th>\n",
       "      <th>tourney_id</th>\n",
       "      <th>tourney_name</th>\n",
       "      <th>surface</th>\n",
       "      <th>tourney_level</th>\n",
       "      <th>tourney_date</th>\n",
       "      <th>winner_name</th>\n",
       "      <th>winner_hand</th>\n",
       "      <th>winner_ht</th>\n",
       "      <th>winner_ioc</th>\n",
       "      <th>winner_rank</th>\n",
       "      <th>loser_name</th>\n",
       "      <th>loser_hand</th>\n",
       "      <th>loser_ht</th>\n",
       "      <th>loser_ioc</th>\n",
       "      <th>loser_rank</th>\n",
       "      <th>score</th>\n",
       "      <th>round</th>\n",
       "      <th>minutes</th>\n",
       "      <th>w_ace</th>\n",
       "      <th>w_df</th>\n",
       "      <th>w_svpt</th>\n",
       "      <th>w_1stIn</th>\n",
       "      <th>w_1stWon</th>\n",
       "      <th>w_2ndWon</th>\n",
       "      <th>w_SvGms</th>\n",
       "      <th>w_bpSaved</th>\n",
       "      <th>w_bpFaced</th>\n",
       "      <th>l_ace</th>\n",
       "      <th>l_df</th>\n",
       "      <th>l_svpt</th>\n",
       "      <th>l_1stIn</th>\n",
       "      <th>l_1stWon</th>\n",
       "      <th>l_2ndWon</th>\n",
       "      <th>l_SvGms</th>\n",
       "      <th>l_bpSaved</th>\n",
       "      <th>l_bpFaced</th>\n",
       "    </tr>\n",
       "  </thead>\n",
       "  <tbody>\n",
       "    <tr>\n",
       "      <th>0</th>\n",
       "      <td>2018-580</td>\n",
       "      <td>Australian Open</td>\n",
       "      <td>Hard</td>\n",
       "      <td>G</td>\n",
       "      <td>20180115.0</td>\n",
       "      <td>Rafael Nadal</td>\n",
       "      <td>L</td>\n",
       "      <td>185.0</td>\n",
       "      <td>ESP</td>\n",
       "      <td>1.0</td>\n",
       "      <td>Victor Estrella</td>\n",
       "      <td>R</td>\n",
       "      <td>173.0</td>\n",
       "      <td>DOM</td>\n",
       "      <td>79.0</td>\n",
       "      <td>6-1 6-1 6-1</td>\n",
       "      <td>R128</td>\n",
       "      <td>94.0</td>\n",
       "      <td>2.0</td>\n",
       "      <td>1.0</td>\n",
       "      <td>66.0</td>\n",
       "      <td>48.0</td>\n",
       "      <td>37.0</td>\n",
       "      <td>12.0</td>\n",
       "      <td>11.0</td>\n",
       "      <td>5.0</td>\n",
       "      <td>6.0</td>\n",
       "      <td>1.0</td>\n",
       "      <td>1.0</td>\n",
       "      <td>61.0</td>\n",
       "      <td>40.0</td>\n",
       "      <td>19.0</td>\n",
       "      <td>5.0</td>\n",
       "      <td>10.0</td>\n",
       "      <td>4.0</td>\n",
       "      <td>12.0</td>\n",
       "    </tr>\n",
       "    <tr>\n",
       "      <th>1</th>\n",
       "      <td>2018-580</td>\n",
       "      <td>Australian Open</td>\n",
       "      <td>Hard</td>\n",
       "      <td>G</td>\n",
       "      <td>20180115.0</td>\n",
       "      <td>Leonardo Mayer</td>\n",
       "      <td>R</td>\n",
       "      <td>188.0</td>\n",
       "      <td>ARG</td>\n",
       "      <td>52.0</td>\n",
       "      <td>Nicolas Jarry</td>\n",
       "      <td>R</td>\n",
       "      <td>NaN</td>\n",
       "      <td>CHI</td>\n",
       "      <td>101.0</td>\n",
       "      <td>6-2 7-6(1) 6-3</td>\n",
       "      <td>R128</td>\n",
       "      <td>115.0</td>\n",
       "      <td>12.0</td>\n",
       "      <td>1.0</td>\n",
       "      <td>66.0</td>\n",
       "      <td>46.0</td>\n",
       "      <td>46.0</td>\n",
       "      <td>14.0</td>\n",
       "      <td>14.0</td>\n",
       "      <td>0.0</td>\n",
       "      <td>0.0</td>\n",
       "      <td>10.0</td>\n",
       "      <td>1.0</td>\n",
       "      <td>123.0</td>\n",
       "      <td>74.0</td>\n",
       "      <td>50.0</td>\n",
       "      <td>20.0</td>\n",
       "      <td>15.0</td>\n",
       "      <td>12.0</td>\n",
       "      <td>16.0</td>\n",
       "    </tr>\n",
       "    <tr>\n",
       "      <th>2</th>\n",
       "      <td>2018-580</td>\n",
       "      <td>Australian Open</td>\n",
       "      <td>Hard</td>\n",
       "      <td>G</td>\n",
       "      <td>20180115.0</td>\n",
       "      <td>John Millman</td>\n",
       "      <td>R</td>\n",
       "      <td>183.0</td>\n",
       "      <td>AUS</td>\n",
       "      <td>122.0</td>\n",
       "      <td>Borna Coric</td>\n",
       "      <td>R</td>\n",
       "      <td>NaN</td>\n",
       "      <td>CRO</td>\n",
       "      <td>46.0</td>\n",
       "      <td>7-5 6-4 6-1</td>\n",
       "      <td>R128</td>\n",
       "      <td>139.0</td>\n",
       "      <td>10.0</td>\n",
       "      <td>2.0</td>\n",
       "      <td>108.0</td>\n",
       "      <td>69.0</td>\n",
       "      <td>51.0</td>\n",
       "      <td>17.0</td>\n",
       "      <td>15.0</td>\n",
       "      <td>5.0</td>\n",
       "      <td>7.0</td>\n",
       "      <td>2.0</td>\n",
       "      <td>4.0</td>\n",
       "      <td>79.0</td>\n",
       "      <td>48.0</td>\n",
       "      <td>27.0</td>\n",
       "      <td>14.0</td>\n",
       "      <td>14.0</td>\n",
       "      <td>2.0</td>\n",
       "      <td>8.0</td>\n",
       "    </tr>\n",
       "    <tr>\n",
       "      <th>3</th>\n",
       "      <td>2018-580</td>\n",
       "      <td>Australian Open</td>\n",
       "      <td>Hard</td>\n",
       "      <td>G</td>\n",
       "      <td>20180115.0</td>\n",
       "      <td>Damir Dzumhur</td>\n",
       "      <td>R</td>\n",
       "      <td>172.0</td>\n",
       "      <td>BIH</td>\n",
       "      <td>30.0</td>\n",
       "      <td>Paolo Lorenzi</td>\n",
       "      <td>R</td>\n",
       "      <td>183.0</td>\n",
       "      <td>ITA</td>\n",
       "      <td>44.0</td>\n",
       "      <td>3-6 2-6 7-6(5) 6-2 6-4</td>\n",
       "      <td>R128</td>\n",
       "      <td>225.0</td>\n",
       "      <td>3.0</td>\n",
       "      <td>5.0</td>\n",
       "      <td>127.0</td>\n",
       "      <td>74.0</td>\n",
       "      <td>58.0</td>\n",
       "      <td>27.0</td>\n",
       "      <td>23.0</td>\n",
       "      <td>4.0</td>\n",
       "      <td>9.0</td>\n",
       "      <td>18.0</td>\n",
       "      <td>5.0</td>\n",
       "      <td>179.0</td>\n",
       "      <td>92.0</td>\n",
       "      <td>68.0</td>\n",
       "      <td>41.0</td>\n",
       "      <td>24.0</td>\n",
       "      <td>8.0</td>\n",
       "      <td>13.0</td>\n",
       "    </tr>\n",
       "    <tr>\n",
       "      <th>4</th>\n",
       "      <td>2018-580</td>\n",
       "      <td>Australian Open</td>\n",
       "      <td>Hard</td>\n",
       "      <td>G</td>\n",
       "      <td>20180115.0</td>\n",
       "      <td>Diego Sebastian Schwartzman</td>\n",
       "      <td>R</td>\n",
       "      <td>170.0</td>\n",
       "      <td>ARG</td>\n",
       "      <td>26.0</td>\n",
       "      <td>Dusan Lajovic</td>\n",
       "      <td>R</td>\n",
       "      <td>180.0</td>\n",
       "      <td>SRB</td>\n",
       "      <td>75.0</td>\n",
       "      <td>2-6 6-3 5-7 6-4 11-9</td>\n",
       "      <td>R128</td>\n",
       "      <td>239.0</td>\n",
       "      <td>14.0</td>\n",
       "      <td>7.0</td>\n",
       "      <td>189.0</td>\n",
       "      <td>109.0</td>\n",
       "      <td>68.0</td>\n",
       "      <td>40.0</td>\n",
       "      <td>30.0</td>\n",
       "      <td>14.0</td>\n",
       "      <td>25.0</td>\n",
       "      <td>6.0</td>\n",
       "      <td>8.0</td>\n",
       "      <td>183.0</td>\n",
       "      <td>126.0</td>\n",
       "      <td>78.0</td>\n",
       "      <td>24.0</td>\n",
       "      <td>29.0</td>\n",
       "      <td>13.0</td>\n",
       "      <td>24.0</td>\n",
       "    </tr>\n",
       "  </tbody>\n",
       "</table>\n",
       "</div>"
      ],
      "text/plain": [
       "  tourney_id     tourney_name surface tourney_level  tourney_date  \\\n",
       "0   2018-580  Australian Open    Hard             G    20180115.0   \n",
       "1   2018-580  Australian Open    Hard             G    20180115.0   \n",
       "2   2018-580  Australian Open    Hard             G    20180115.0   \n",
       "3   2018-580  Australian Open    Hard             G    20180115.0   \n",
       "4   2018-580  Australian Open    Hard             G    20180115.0   \n",
       "\n",
       "                   winner_name winner_hand  winner_ht winner_ioc  winner_rank  \\\n",
       "0                 Rafael Nadal           L      185.0        ESP          1.0   \n",
       "1               Leonardo Mayer           R      188.0        ARG         52.0   \n",
       "2                 John Millman           R      183.0        AUS        122.0   \n",
       "3                Damir Dzumhur           R      172.0        BIH         30.0   \n",
       "4  Diego Sebastian Schwartzman           R      170.0        ARG         26.0   \n",
       "\n",
       "        loser_name loser_hand  loser_ht loser_ioc  loser_rank  \\\n",
       "0  Victor Estrella          R     173.0       DOM        79.0   \n",
       "1    Nicolas Jarry          R       NaN       CHI       101.0   \n",
       "2      Borna Coric          R       NaN       CRO        46.0   \n",
       "3    Paolo Lorenzi          R     183.0       ITA        44.0   \n",
       "4    Dusan Lajovic          R     180.0       SRB        75.0   \n",
       "\n",
       "                    score round  minutes  w_ace  w_df  w_svpt  w_1stIn  \\\n",
       "0             6-1 6-1 6-1  R128     94.0    2.0   1.0    66.0     48.0   \n",
       "1          6-2 7-6(1) 6-3  R128    115.0   12.0   1.0    66.0     46.0   \n",
       "2             7-5 6-4 6-1  R128    139.0   10.0   2.0   108.0     69.0   \n",
       "3  3-6 2-6 7-6(5) 6-2 6-4  R128    225.0    3.0   5.0   127.0     74.0   \n",
       "4    2-6 6-3 5-7 6-4 11-9  R128    239.0   14.0   7.0   189.0    109.0   \n",
       "\n",
       "   w_1stWon  w_2ndWon  w_SvGms  w_bpSaved  w_bpFaced  l_ace  l_df  l_svpt  \\\n",
       "0      37.0      12.0     11.0        5.0        6.0    1.0   1.0    61.0   \n",
       "1      46.0      14.0     14.0        0.0        0.0   10.0   1.0   123.0   \n",
       "2      51.0      17.0     15.0        5.0        7.0    2.0   4.0    79.0   \n",
       "3      58.0      27.0     23.0        4.0        9.0   18.0   5.0   179.0   \n",
       "4      68.0      40.0     30.0       14.0       25.0    6.0   8.0   183.0   \n",
       "\n",
       "   l_1stIn  l_1stWon  l_2ndWon  l_SvGms  l_bpSaved  l_bpFaced  \n",
       "0     40.0      19.0       5.0     10.0        4.0       12.0  \n",
       "1     74.0      50.0      20.0     15.0       12.0       16.0  \n",
       "2     48.0      27.0      14.0     14.0        2.0        8.0  \n",
       "3     92.0      68.0      41.0     24.0        8.0       13.0  \n",
       "4    126.0      78.0      24.0     29.0       13.0       24.0  "
      ]
     },
     "execution_count": 4,
     "metadata": {},
     "output_type": "execute_result"
    }
   ],
   "source": [
    "data.head()"
   ]
  },
  {
   "cell_type": "code",
   "execution_count": 5,
   "metadata": {},
   "outputs": [],
   "source": [
    "# Standardise Grand Slam naming\n",
    "data.replace({'tourney_name':'Us Open'},value='US Open', inplace=True)"
   ]
  },
  {
   "cell_type": "code",
   "execution_count": 6,
   "metadata": {},
   "outputs": [],
   "source": [
    "# Change the tourney_date to type datetime64ns\n",
    "data['tourney_date']=pd.to_datetime(data['tourney_date'].astype(str), format='%Y%m%d')"
   ]
  },
  {
   "cell_type": "code",
   "execution_count": 7,
   "metadata": {},
   "outputs": [],
   "source": [
    "float_columns = data.select_dtypes(include=['float64'])"
   ]
  },
  {
   "cell_type": "code",
   "execution_count": 8,
   "metadata": {},
   "outputs": [
    {
     "data": {
      "text/plain": [
       "Index(['winner_ht', 'winner_rank', 'loser_ht', 'loser_rank', 'minutes',\n",
       "       'w_ace', 'w_df', 'w_svpt', 'w_1stIn', 'w_1stWon', 'w_2ndWon', 'w_SvGms',\n",
       "       'w_bpSaved', 'w_bpFaced', 'l_ace', 'l_df', 'l_svpt', 'l_1stIn',\n",
       "       'l_1stWon', 'l_2ndWon', 'l_SvGms', 'l_bpSaved', 'l_bpFaced'],\n",
       "      dtype='object')"
      ]
     },
     "execution_count": 8,
     "metadata": {},
     "output_type": "execute_result"
    }
   ],
   "source": [
    "float_columns.columns"
   ]
  },
  {
   "cell_type": "code",
   "execution_count": 9,
   "metadata": {},
   "outputs": [],
   "source": [
    "data_clean = data.dropna(subset=float_columns.columns)"
   ]
  },
  {
   "cell_type": "code",
   "execution_count": 10,
   "metadata": {},
   "outputs": [
    {
     "data": {
      "text/plain": [
       "(4365, 36)"
      ]
     },
     "execution_count": 10,
     "metadata": {},
     "output_type": "execute_result"
    }
   ],
   "source": [
    "data_clean.shape"
   ]
  },
  {
   "cell_type": "code",
   "execution_count": 11,
   "metadata": {},
   "outputs": [],
   "source": [
    "data_clean[float_columns.columns] = data_clean[float_columns.columns].astype('int64')"
   ]
  },
  {
   "cell_type": "code",
   "execution_count": 12,
   "metadata": {},
   "outputs": [
    {
     "data": {
      "text/plain": [
       "tourney_id               object\n",
       "tourney_name             object\n",
       "surface                  object\n",
       "tourney_level            object\n",
       "tourney_date     datetime64[ns]\n",
       "winner_name              object\n",
       "winner_hand              object\n",
       "winner_ht                 int64\n",
       "winner_ioc               object\n",
       "winner_rank               int64\n",
       "loser_name               object\n",
       "loser_hand               object\n",
       "loser_ht                  int64\n",
       "loser_ioc                object\n",
       "loser_rank                int64\n",
       "score                    object\n",
       "round                    object\n",
       "minutes                   int64\n",
       "w_ace                     int64\n",
       "w_df                      int64\n",
       "w_svpt                    int64\n",
       "w_1stIn                   int64\n",
       "w_1stWon                  int64\n",
       "w_2ndWon                  int64\n",
       "w_SvGms                   int64\n",
       "w_bpSaved                 int64\n",
       "w_bpFaced                 int64\n",
       "l_ace                     int64\n",
       "l_df                      int64\n",
       "l_svpt                    int64\n",
       "l_1stIn                   int64\n",
       "l_1stWon                  int64\n",
       "l_2ndWon                  int64\n",
       "l_SvGms                   int64\n",
       "l_bpSaved                 int64\n",
       "l_bpFaced                 int64\n",
       "dtype: object"
      ]
     },
     "execution_count": 12,
     "metadata": {},
     "output_type": "execute_result"
    }
   ],
   "source": [
    "data_clean.dtypes"
   ]
  },
  {
   "cell_type": "code",
   "execution_count": 13,
   "metadata": {},
   "outputs": [],
   "source": [
    "# Take only the match statistics columns\n",
    "match_stat_columns=data_clean.columns[31:]\n",
    "match_stats=data_clean[match_stat_columns]"
   ]
  },
  {
   "cell_type": "code",
   "execution_count": 14,
   "metadata": {},
   "outputs": [
    {
     "data": {
      "text/html": [
       "<div>\n",
       "<style scoped>\n",
       "    .dataframe tbody tr th:only-of-type {\n",
       "        vertical-align: middle;\n",
       "    }\n",
       "\n",
       "    .dataframe tbody tr th {\n",
       "        vertical-align: top;\n",
       "    }\n",
       "\n",
       "    .dataframe thead th {\n",
       "        text-align: right;\n",
       "    }\n",
       "</style>\n",
       "<table border=\"1\" class=\"dataframe\">\n",
       "  <thead>\n",
       "    <tr style=\"text-align: right;\">\n",
       "      <th></th>\n",
       "      <th>l_1stWon</th>\n",
       "      <th>l_2ndWon</th>\n",
       "      <th>l_SvGms</th>\n",
       "      <th>l_bpSaved</th>\n",
       "      <th>l_bpFaced</th>\n",
       "    </tr>\n",
       "  </thead>\n",
       "  <tbody>\n",
       "    <tr>\n",
       "      <th>0</th>\n",
       "      <td>19</td>\n",
       "      <td>5</td>\n",
       "      <td>10</td>\n",
       "      <td>4</td>\n",
       "      <td>12</td>\n",
       "    </tr>\n",
       "    <tr>\n",
       "      <th>3</th>\n",
       "      <td>68</td>\n",
       "      <td>41</td>\n",
       "      <td>24</td>\n",
       "      <td>8</td>\n",
       "      <td>13</td>\n",
       "    </tr>\n",
       "    <tr>\n",
       "      <th>4</th>\n",
       "      <td>78</td>\n",
       "      <td>24</td>\n",
       "      <td>29</td>\n",
       "      <td>13</td>\n",
       "      <td>24</td>\n",
       "    </tr>\n",
       "    <tr>\n",
       "      <th>6</th>\n",
       "      <td>40</td>\n",
       "      <td>17</td>\n",
       "      <td>16</td>\n",
       "      <td>9</td>\n",
       "      <td>16</td>\n",
       "    </tr>\n",
       "    <tr>\n",
       "      <th>7</th>\n",
       "      <td>48</td>\n",
       "      <td>20</td>\n",
       "      <td>19</td>\n",
       "      <td>0</td>\n",
       "      <td>4</td>\n",
       "    </tr>\n",
       "  </tbody>\n",
       "</table>\n",
       "</div>"
      ],
      "text/plain": [
       "   l_1stWon  l_2ndWon  l_SvGms  l_bpSaved  l_bpFaced\n",
       "0        19         5       10          4         12\n",
       "3        68        41       24          8         13\n",
       "4        78        24       29         13         24\n",
       "6        40        17       16          9         16\n",
       "7        48        20       19          0          4"
      ]
     },
     "execution_count": 14,
     "metadata": {},
     "output_type": "execute_result"
    }
   ],
   "source": [
    "match_stats.head()"
   ]
  },
  {
   "cell_type": "code",
   "execution_count": 15,
   "metadata": {},
   "outputs": [],
   "source": [
    "# Display matches that have NaN in match stats rows\n",
    "null_match_stats=match_stats[match_stats.isnull().any(axis=1)].index\n",
    "\n",
    "# Overview of grand slam matches and year that have missing stats rows \n",
    "# A systematic loss of data e.g. counts are either 31 and 62 probably due to data unavailability \n",
    "# These rows are all to be deleted and the loss is quite balance among the 4 Grand Slam, not resulting in bias.\n",
    "data_clean.iloc[null_match_stats,:].groupby(['tourney_name','tourney_id']).count()\n",
    "\n",
    "# Drop all these rows\n",
    "data_clean.drop(null_match_stats, inplace=True)"
   ]
  },
  {
   "cell_type": "code",
   "execution_count": 16,
   "metadata": {
    "scrolled": false
   },
   "outputs": [],
   "source": [
    "# split score cell into 6 columns by passing the parameter expand=True, default column label is 0,1,2,3,4,5\n",
    "split_set_score=pd.DataFrame(data_clean['score'].str.split(expand=True))\n",
    "\n",
    "# concatenate columns back to data\n",
    "data_with_scores=pd.concat([data_clean,split_set_score], axis=1)\n"
   ]
  },
  {
   "cell_type": "code",
   "execution_count": 17,
   "metadata": {},
   "outputs": [],
   "source": [
    "# Filter out rows with retire (meaning withdrawal of either one of players in a game)\n",
    "scores_without_ret=data_with_scores[(data_with_scores[[0, 1, 2, 3, 4, 5]] != 'RET').all(axis=1)]\n"
   ]
  },
  {
   "cell_type": "code",
   "execution_count": 18,
   "metadata": {},
   "outputs": [],
   "source": [
    "# Rename columns of set scores\n",
    "scores_without_ret.rename(columns={0:'1st_set',1:'2nd_set',2:'3rd_set',3:'4th_set',4:'5th_set'},inplace=True)\n"
   ]
  },
  {
   "cell_type": "code",
   "execution_count": 19,
   "metadata": {},
   "outputs": [],
   "source": [
    "# Drop column 5 as it originally contains 'RET', now it is all None\n",
    "scores_without_ret.drop(columns=5,inplace=True)"
   ]
  },
  {
   "cell_type": "code",
   "execution_count": 20,
   "metadata": {},
   "outputs": [
    {
     "data": {
      "text/plain": [
       "(4167, 41)"
      ]
     },
     "execution_count": 20,
     "metadata": {},
     "output_type": "execute_result"
    }
   ],
   "source": [
    "scores_without_ret.shape"
   ]
  },
  {
   "cell_type": "code",
   "execution_count": 21,
   "metadata": {},
   "outputs": [],
   "source": [
    "scores_without_ret.to_csv('grand_slam_database.csv')"
   ]
  },
  {
   "cell_type": "code",
   "execution_count": 22,
   "metadata": {},
   "outputs": [],
   "source": [
    "# Compile the average ace in the winner column\n",
    "avg_ace_w = scores_without_ret.groupby('winner_name')['w_ace'].mean().round(1)"
   ]
  },
  {
   "cell_type": "code",
   "execution_count": 23,
   "metadata": {},
   "outputs": [],
   "source": [
    "height_w = scores_without_ret.groupby('winner_name')['winner_ht'].mean()"
   ]
  },
  {
   "cell_type": "code",
   "execution_count": 24,
   "metadata": {},
   "outputs": [],
   "source": [
    "# Compile the average ace in the loser column\n",
    "avg_ace_l = scores_without_ret.groupby('loser_name')['l_ace'].mean().round(1)"
   ]
  },
  {
   "cell_type": "code",
   "execution_count": 25,
   "metadata": {},
   "outputs": [],
   "source": [
    "height_l = scores_without_ret.groupby('loser_name')['loser_ht'].mean()"
   ]
  },
  {
   "cell_type": "code",
   "execution_count": 26,
   "metadata": {},
   "outputs": [
    {
     "name": "stderr",
     "output_type": "stream",
     "text": [
      "/anaconda3/lib/python3.7/site-packages/ipykernel_launcher.py:2: FutureWarning:\n",
      "\n",
      "Sorting because non-concatenation axis is not aligned. A future version\n",
      "of pandas will change to not sort by default.\n",
      "\n",
      "To accept the future behavior, pass 'sort=False'.\n",
      "\n",
      "To retain the current behavior and silence the warning, pass 'sort=True'.\n",
      "\n",
      "\n"
     ]
    }
   ],
   "source": [
    "# Combine winner and loser ace by outer join so that all players are taken into account\n",
    "all_players=pd.concat([avg_ace_w,avg_ace_l], axis=1, join='outer')"
   ]
  },
  {
   "cell_type": "code",
   "execution_count": 27,
   "metadata": {},
   "outputs": [],
   "source": [
    "# Some players may never appear in the winner column, so the Nan is filled with zero and a mean of both columns is the avg no. of ace for that player.\n",
    "all_players.fillna(0)\n",
    "ace=all_players.mean(axis=1)"
   ]
  },
  {
   "cell_type": "code",
   "execution_count": 28,
   "metadata": {},
   "outputs": [
    {
     "name": "stderr",
     "output_type": "stream",
     "text": [
      "/anaconda3/lib/python3.7/site-packages/ipykernel_launcher.py:2: FutureWarning:\n",
      "\n",
      "Sorting because non-concatenation axis is not aligned. A future version\n",
      "of pandas will change to not sort by default.\n",
      "\n",
      "To accept the future behavior, pass 'sort=False'.\n",
      "\n",
      "To retain the current behavior and silence the warning, pass 'sort=True'.\n",
      "\n",
      "\n"
     ]
    }
   ],
   "source": [
    "# Combine winner and loser height by outer join\n",
    "all_height=pd.concat([height_w,height_l], axis=1, join='outer')\n"
   ]
  },
  {
   "cell_type": "code",
   "execution_count": 29,
   "metadata": {},
   "outputs": [],
   "source": [
    "# Combine ace and height column by outer join\n",
    "ace_height_combined=pd.concat([ace,all_height], axis=1, join='outer').drop(columns=['loser_ht'])"
   ]
  },
  {
   "cell_type": "code",
   "execution_count": 30,
   "metadata": {},
   "outputs": [],
   "source": [
    "# Drop the Nan values and rename the column labels\n",
    "ace_height_combined=ace_height_combined.dropna(axis=0).rename(columns={0:'Ace','winner_ht':'Height'})"
   ]
  },
  {
   "cell_type": "code",
   "execution_count": 31,
   "metadata": {},
   "outputs": [
    {
     "data": {
      "text/html": [
       "<div>\n",
       "<style scoped>\n",
       "    .dataframe tbody tr th:only-of-type {\n",
       "        vertical-align: middle;\n",
       "    }\n",
       "\n",
       "    .dataframe tbody tr th {\n",
       "        vertical-align: top;\n",
       "    }\n",
       "\n",
       "    .dataframe thead th {\n",
       "        text-align: right;\n",
       "    }\n",
       "</style>\n",
       "<table border=\"1\" class=\"dataframe\">\n",
       "  <thead>\n",
       "    <tr style=\"text-align: right;\">\n",
       "      <th></th>\n",
       "      <th>Ace</th>\n",
       "      <th>Height</th>\n",
       "    </tr>\n",
       "  </thead>\n",
       "  <tbody>\n",
       "    <tr>\n",
       "      <th>Ivo Karlovic</th>\n",
       "      <td>29.25</td>\n",
       "      <td>208.0</td>\n",
       "    </tr>\n",
       "    <tr>\n",
       "      <th>John Isner</th>\n",
       "      <td>26.00</td>\n",
       "      <td>206.0</td>\n",
       "    </tr>\n",
       "    <tr>\n",
       "      <th>Ilija Bozoljac</th>\n",
       "      <td>25.75</td>\n",
       "      <td>193.0</td>\n",
       "    </tr>\n",
       "    <tr>\n",
       "      <th>Gilles Muller</th>\n",
       "      <td>21.20</td>\n",
       "      <td>193.0</td>\n",
       "    </tr>\n",
       "    <tr>\n",
       "      <th>Milos Raonic</th>\n",
       "      <td>20.70</td>\n",
       "      <td>196.0</td>\n",
       "    </tr>\n",
       "  </tbody>\n",
       "</table>\n",
       "</div>"
      ],
      "text/plain": [
       "                  Ace  Height\n",
       "Ivo Karlovic    29.25   208.0\n",
       "John Isner      26.00   206.0\n",
       "Ilija Bozoljac  25.75   193.0\n",
       "Gilles Muller   21.20   193.0\n",
       "Milos Raonic    20.70   196.0"
      ]
     },
     "execution_count": 31,
     "metadata": {},
     "output_type": "execute_result"
    }
   ],
   "source": [
    "# A brief look of the dataframe\n",
    "ace_height_combined.sort_values('Ace',ascending=False).head()"
   ]
  },
  {
   "cell_type": "code",
   "execution_count": 32,
   "metadata": {
    "scrolled": true
   },
   "outputs": [
    {
     "data": {
      "application/vnd.plotly.v1+json": {
       "config": {
        "linkText": "Export to plot.ly",
        "plotlyServerURL": "https://plot.ly",
        "showLink": true
       },
       "data": [
        {
         "boxpoints": "all",
         "marker": {
          "color": "rgb(8,81,156)",
          "outliercolor": "rgba(219, 64, 82, 0.6)"
         },
         "type": "box",
         "uid": "41f46605-351f-4ab5-b346-e7912499c31d",
         "x": [
          6.05,
          4,
          10.7,
          6.199999999999999,
          6.3,
          4.4,
          5,
          3.5,
          10.25,
          11.6,
          12.25,
          13.55,
          4,
          18,
          5.05,
          14.5,
          8.2,
          5.95,
          8.25,
          9,
          17.7,
          3.5,
          7.15,
          11.25,
          11.8,
          10.1,
          10.5,
          6,
          16.9,
          9.600000000000001,
          13.15,
          7.15,
          4.05,
          10.65,
          4.6,
          13.1,
          15.05,
          2.7,
          17.75,
          3.4,
          2.8,
          16.1,
          7.05,
          6.65,
          2.2,
          4.550000000000001,
          7.449999999999999,
          3,
          6.95,
          9.6,
          10.899999999999999,
          8,
          1.5,
          4.85,
          10,
          9.65,
          3.75,
          3.65,
          3.3,
          5.699999999999999,
          11.4,
          6.9,
          6.05,
          14.25,
          8.75,
          8.55,
          5.45,
          6.300000000000001,
          6.3,
          15.3,
          11.2,
          8.8,
          1.4500000000000002,
          5.05,
          6.3,
          11.55,
          3.15,
          10.9,
          21.200000000000003,
          5.949999999999999,
          5.75,
          11.3,
          9,
          8.8,
          9.5,
          11.7,
          5.35,
          10.149999999999999,
          5.25,
          8.850000000000001,
          4.7,
          9.95,
          25.75,
          6.3,
          12.9,
          14.8,
          10.7,
          29.25,
          8.35,
          8.85,
          7.699999999999999,
          11.5,
          9,
          3.3,
          6.55,
          11.149999999999999,
          5.45,
          5.35,
          11.5,
          11.95,
          7.85,
          7.1,
          6,
          9.7,
          12.25,
          5.9,
          26,
          5.800000000000001,
          8.3,
          8.3,
          5.25,
          3.05,
          9.8,
          3.35,
          6.95,
          8.75,
          8.15,
          9.65,
          10.899999999999999,
          4.2,
          13.45,
          16.549999999999997,
          6.4,
          8,
          12.4,
          9.600000000000001,
          8.9,
          8.5,
          12.85,
          3.5,
          10.3,
          12.35,
          8.7,
          6.05,
          11.8,
          8.25,
          7.55,
          5.75,
          10.5,
          12.35,
          12.45,
          7.25,
          10.3,
          15.75,
          11.55,
          6.7,
          3.45,
          8.45,
          7.65,
          2.85,
          7.8,
          10.4,
          5.45,
          10.45,
          7.5,
          4.300000000000001,
          5.8,
          20.700000000000003,
          7.6,
          20.5,
          13.55,
          4.050000000000001,
          10.25,
          6.2,
          11.2,
          5.6,
          4.3,
          3.85,
          7,
          2.8,
          5.7,
          2.9000000000000004,
          5.55,
          10.05,
          6.65,
          5.75,
          8.55,
          9.75,
          8.2,
          9.6,
          8.35,
          8.75,
          11.5,
          11.600000000000001,
          5.1,
          7.1,
          5.4,
          4.9,
          11.1,
          6.5,
          3.25,
          7.35,
          8.5,
          6.4,
          19.8,
          3.25,
          10.35,
          10.55,
          11.3,
          7.8999999999999995,
          7.050000000000001,
          3.35,
          2.95,
          9.5,
          5.300000000000001,
          11.5,
          17.950000000000003,
          4.75,
          5.25,
          8.5,
          10.5,
          8.15,
          9.55,
          6.2,
          2.75,
          6,
          4.9,
          9.95,
          6.5,
          6.25,
          6.55,
          11.6,
          5.4,
          9.65,
          7,
          4.55,
          15.200000000000001,
          10.1,
          6.5,
          8.7,
          8.75,
          3.95,
          10.55,
          10.85,
          6,
          16.05,
          5.75,
          4.6,
          7.3999999999999995,
          12.35,
          11,
          4.9,
          6.5,
          9.6,
          7.449999999999999,
          8.25,
          3
         ]
        }
       ],
       "layout": {
        "title": {
         "text": "Boxplot of avg no. of Ace in Grand Slam"
        },
        "xaxis": {
         "title": {
          "text": "Avg. no. of Ace"
         }
        }
       }
      },
      "text/html": [
       "<div id=\"b9ae61d1-c006-4981-a394-e8c37ff50f7c\" style=\"height: 525px; width: 100%;\" class=\"plotly-graph-div\"></div><script type=\"text/javascript\">require([\"plotly\"], function(Plotly) { window.PLOTLYENV=window.PLOTLYENV || {};window.PLOTLYENV.BASE_URL=\"https://plot.ly\";\n",
       "if (document.getElementById(\"b9ae61d1-c006-4981-a394-e8c37ff50f7c\")) {\n",
       "    Plotly.newPlot(\"b9ae61d1-c006-4981-a394-e8c37ff50f7c\", [{\"boxpoints\": \"all\", \"marker\": {\"color\": \"rgb(8,81,156)\", \"outliercolor\": \"rgba(219, 64, 82, 0.6)\"}, \"x\": [6.05, 4.0, 10.7, 6.199999999999999, 6.3, 4.4, 5.0, 3.5, 10.25, 11.6, 12.25, 13.55, 4.0, 18.0, 5.05, 14.5, 8.2, 5.95, 8.25, 9.0, 17.7, 3.5, 7.15, 11.25, 11.8, 10.1, 10.5, 6.0, 16.9, 9.600000000000001, 13.15, 7.15, 4.05, 10.65, 4.6, 13.1, 15.05, 2.7, 17.75, 3.4, 2.8, 16.1, 7.05, 6.65, 2.2, 4.550000000000001, 7.449999999999999, 3.0, 6.95, 9.6, 10.899999999999999, 8.0, 1.5, 4.85, 10.0, 9.65, 3.75, 3.65, 3.3, 5.699999999999999, 11.4, 6.9, 6.05, 14.25, 8.75, 8.55, 5.45, 6.300000000000001, 6.3, 15.3, 11.2, 8.8, 1.4500000000000002, 5.05, 6.3, 11.55, 3.15, 10.9, 21.200000000000003, 5.949999999999999, 5.75, 11.3, 9.0, 8.8, 9.5, 11.7, 5.35, 10.149999999999999, 5.25, 8.850000000000001, 4.7, 9.95, 25.75, 6.3, 12.9, 14.8, 10.7, 29.25, 8.35, 8.85, 7.699999999999999, 11.5, 9.0, 3.3, 6.55, 11.149999999999999, 5.45, 5.35, 11.5, 11.95, 7.85, 7.1, 6.0, 9.7, 12.25, 5.9, 26.0, 5.800000000000001, 8.3, 8.3, 5.25, 3.05, 9.8, 3.35, 6.95, 8.75, 8.15, 9.65, 10.899999999999999, 4.2, 13.45, 16.549999999999997, 6.4, 8.0, 12.4, 9.600000000000001, 8.9, 8.5, 12.85, 3.5, 10.3, 12.35, 8.7, 6.05, 11.8, 8.25, 7.55, 5.75, 10.5, 12.35, 12.45, 7.25, 10.3, 15.75, 11.55, 6.7, 3.45, 8.45, 7.65, 2.85, 7.8, 10.4, 5.45, 10.45, 7.5, 4.300000000000001, 5.8, 20.700000000000003, 7.6, 20.5, 13.55, 4.050000000000001, 10.25, 6.2, 11.2, 5.6, 4.3, 3.85, 7.0, 2.8, 5.7, 2.9000000000000004, 5.55, 10.05, 6.65, 5.75, 8.55, 9.75, 8.2, 9.6, 8.35, 8.75, 11.5, 11.600000000000001, 5.1, 7.1, 5.4, 4.9, 11.1, 6.5, 3.25, 7.35, 8.5, 6.4, 19.8, 3.25, 10.35, 10.55, 11.3, 7.8999999999999995, 7.050000000000001, 3.35, 2.95, 9.5, 5.300000000000001, 11.5, 17.950000000000003, 4.75, 5.25, 8.5, 10.5, 8.15, 9.55, 6.2, 2.75, 6.0, 4.9, 9.95, 6.5, 6.25, 6.55, 11.6, 5.4, 9.65, 7.0, 4.55, 15.200000000000001, 10.1, 6.5, 8.7, 8.75, 3.95, 10.55, 10.85, 6.0, 16.05, 5.75, 4.6, 7.3999999999999995, 12.35, 11.0, 4.9, 6.5, 9.6, 7.449999999999999, 8.25, 3.0], \"type\": \"box\", \"uid\": \"41f46605-351f-4ab5-b346-e7912499c31d\"}], {\"title\": {\"text\": \"Boxplot of avg no. of Ace in Grand Slam\"}, \"xaxis\": {\"title\": {\"text\": \"Avg. no. of Ace\"}}}, {\"showLink\": true, \"linkText\": \"Export to plot.ly\", \"plotlyServerURL\": \"https://plot.ly\"}); \n",
       "}\n",
       "});</script><script type=\"text/javascript\">window.addEventListener(\"resize\", function(){if (document.getElementById(\"b9ae61d1-c006-4981-a394-e8c37ff50f7c\")) {window._Plotly.Plots.resize(document.getElementById(\"b9ae61d1-c006-4981-a394-e8c37ff50f7c\"));};})</script>"
      ],
      "text/vnd.plotly.v1+html": [
       "<div id=\"b9ae61d1-c006-4981-a394-e8c37ff50f7c\" style=\"height: 525px; width: 100%;\" class=\"plotly-graph-div\"></div><script type=\"text/javascript\">require([\"plotly\"], function(Plotly) { window.PLOTLYENV=window.PLOTLYENV || {};window.PLOTLYENV.BASE_URL=\"https://plot.ly\";\n",
       "if (document.getElementById(\"b9ae61d1-c006-4981-a394-e8c37ff50f7c\")) {\n",
       "    Plotly.newPlot(\"b9ae61d1-c006-4981-a394-e8c37ff50f7c\", [{\"boxpoints\": \"all\", \"marker\": {\"color\": \"rgb(8,81,156)\", \"outliercolor\": \"rgba(219, 64, 82, 0.6)\"}, \"x\": [6.05, 4.0, 10.7, 6.199999999999999, 6.3, 4.4, 5.0, 3.5, 10.25, 11.6, 12.25, 13.55, 4.0, 18.0, 5.05, 14.5, 8.2, 5.95, 8.25, 9.0, 17.7, 3.5, 7.15, 11.25, 11.8, 10.1, 10.5, 6.0, 16.9, 9.600000000000001, 13.15, 7.15, 4.05, 10.65, 4.6, 13.1, 15.05, 2.7, 17.75, 3.4, 2.8, 16.1, 7.05, 6.65, 2.2, 4.550000000000001, 7.449999999999999, 3.0, 6.95, 9.6, 10.899999999999999, 8.0, 1.5, 4.85, 10.0, 9.65, 3.75, 3.65, 3.3, 5.699999999999999, 11.4, 6.9, 6.05, 14.25, 8.75, 8.55, 5.45, 6.300000000000001, 6.3, 15.3, 11.2, 8.8, 1.4500000000000002, 5.05, 6.3, 11.55, 3.15, 10.9, 21.200000000000003, 5.949999999999999, 5.75, 11.3, 9.0, 8.8, 9.5, 11.7, 5.35, 10.149999999999999, 5.25, 8.850000000000001, 4.7, 9.95, 25.75, 6.3, 12.9, 14.8, 10.7, 29.25, 8.35, 8.85, 7.699999999999999, 11.5, 9.0, 3.3, 6.55, 11.149999999999999, 5.45, 5.35, 11.5, 11.95, 7.85, 7.1, 6.0, 9.7, 12.25, 5.9, 26.0, 5.800000000000001, 8.3, 8.3, 5.25, 3.05, 9.8, 3.35, 6.95, 8.75, 8.15, 9.65, 10.899999999999999, 4.2, 13.45, 16.549999999999997, 6.4, 8.0, 12.4, 9.600000000000001, 8.9, 8.5, 12.85, 3.5, 10.3, 12.35, 8.7, 6.05, 11.8, 8.25, 7.55, 5.75, 10.5, 12.35, 12.45, 7.25, 10.3, 15.75, 11.55, 6.7, 3.45, 8.45, 7.65, 2.85, 7.8, 10.4, 5.45, 10.45, 7.5, 4.300000000000001, 5.8, 20.700000000000003, 7.6, 20.5, 13.55, 4.050000000000001, 10.25, 6.2, 11.2, 5.6, 4.3, 3.85, 7.0, 2.8, 5.7, 2.9000000000000004, 5.55, 10.05, 6.65, 5.75, 8.55, 9.75, 8.2, 9.6, 8.35, 8.75, 11.5, 11.600000000000001, 5.1, 7.1, 5.4, 4.9, 11.1, 6.5, 3.25, 7.35, 8.5, 6.4, 19.8, 3.25, 10.35, 10.55, 11.3, 7.8999999999999995, 7.050000000000001, 3.35, 2.95, 9.5, 5.300000000000001, 11.5, 17.950000000000003, 4.75, 5.25, 8.5, 10.5, 8.15, 9.55, 6.2, 2.75, 6.0, 4.9, 9.95, 6.5, 6.25, 6.55, 11.6, 5.4, 9.65, 7.0, 4.55, 15.200000000000001, 10.1, 6.5, 8.7, 8.75, 3.95, 10.55, 10.85, 6.0, 16.05, 5.75, 4.6, 7.3999999999999995, 12.35, 11.0, 4.9, 6.5, 9.6, 7.449999999999999, 8.25, 3.0], \"type\": \"box\", \"uid\": \"41f46605-351f-4ab5-b346-e7912499c31d\"}], {\"title\": {\"text\": \"Boxplot of avg no. of Ace in Grand Slam\"}, \"xaxis\": {\"title\": {\"text\": \"Avg. no. of Ace\"}}}, {\"showLink\": true, \"linkText\": \"Export to plot.ly\", \"plotlyServerURL\": \"https://plot.ly\"}); \n",
       "}\n",
       "});</script><script type=\"text/javascript\">window.addEventListener(\"resize\", function(){if (document.getElementById(\"b9ae61d1-c006-4981-a394-e8c37ff50f7c\")) {window._Plotly.Plots.resize(document.getElementById(\"b9ae61d1-c006-4981-a394-e8c37ff50f7c\"));};})</script>"
      ]
     },
     "metadata": {},
     "output_type": "display_data"
    },
    {
     "data": {
      "application/vnd.plotly.v1+json": {
       "config": {
        "linkText": "Export to plot.ly",
        "plotlyServerURL": "https://plot.ly",
        "showLink": true
       },
       "data": [
        {
         "boxpoints": "all",
         "marker": {
          "color": "rgb(60,81,156)"
         },
         "type": "box",
         "uid": "24315387-e718-47cc-afa1-9b47e14a3952",
         "x": [
          183,
          178,
          183,
          175,
          188,
          185,
          183,
          178,
          183,
          198,
          180,
          181,
          180,
          196,
          190,
          190,
          190,
          185,
          185,
          190,
          188,
          180,
          173,
          178,
          196,
          193,
          175,
          188,
          183,
          190,
          188,
          190,
          170,
          183,
          183,
          190,
          198,
          183,
          201,
          170,
          172,
          196,
          175,
          185,
          180,
          175,
          163,
          185,
          180,
          183,
          188,
          180,
          178,
          170,
          185,
          185,
          183,
          183,
          175,
          180,
          196,
          188,
          183,
          190,
          185,
          185,
          178,
          178,
          190,
          188,
          183,
          188,
          173,
          180,
          190,
          185,
          178,
          193,
          193,
          183,
          178,
          183,
          188,
          185,
          188,
          185,
          188,
          188,
          180,
          185,
          180,
          190,
          193,
          185,
          183,
          193,
          183,
          208,
          183,
          185,
          185,
          183,
          190,
          180,
          190,
          180,
          185,
          173,
          188,
          203,
          175,
          178,
          178,
          185,
          188,
          185,
          206,
          183,
          190,
          193,
          183,
          190,
          198,
          185,
          188,
          185,
          183,
          190,
          180,
          178,
          203,
          203,
          180,
          190,
          193,
          188,
          180,
          175,
          185,
          180,
          185,
          196,
          190,
          185,
          193,
          188,
          190,
          185,
          183,
          188,
          198,
          194,
          196,
          193,
          190,
          190,
          183,
          188,
          188,
          175,
          193,
          190,
          173,
          185,
          188,
          183,
          183,
          196,
          190,
          193,
          183,
          173,
          183,
          188,
          190,
          183,
          178,
          185,
          188,
          168,
          180,
          180,
          188,
          180,
          183,
          190,
          185,
          183,
          185,
          183,
          180,
          178,
          185,
          188,
          188,
          185,
          185,
          180,
          193,
          175,
          175,
          185,
          180,
          183,
          190,
          183,
          190,
          193,
          185,
          178,
          183,
          183,
          178,
          183,
          196,
          183,
          198,
          190,
          188,
          178,
          183,
          175,
          193,
          185,
          183,
          183,
          180,
          183,
          175,
          185,
          178,
          188,
          180,
          188,
          188,
          178,
          193,
          180,
          203,
          188,
          175,
          180,
          196,
          188,
          180,
          193,
          185,
          173,
          198,
          193,
          173,
          183,
          180,
          185,
          180,
          173,
          188
         ]
        }
       ],
       "layout": {
        "title": {
         "text": "Boxplot of players height in Grand Slam"
        },
        "xaxis": {
         "title": {
          "text": "Height"
         }
        }
       }
      },
      "text/html": [
       "<div id=\"b88060da-c6b1-47a8-af5c-d499e8f3ab1a\" style=\"height: 525px; width: 100%;\" class=\"plotly-graph-div\"></div><script type=\"text/javascript\">require([\"plotly\"], function(Plotly) { window.PLOTLYENV=window.PLOTLYENV || {};window.PLOTLYENV.BASE_URL=\"https://plot.ly\";\n",
       "if (document.getElementById(\"b88060da-c6b1-47a8-af5c-d499e8f3ab1a\")) {\n",
       "    Plotly.newPlot(\"b88060da-c6b1-47a8-af5c-d499e8f3ab1a\", [{\"boxpoints\": \"all\", \"marker\": {\"color\": \"rgb(60,81,156)\"}, \"x\": [183.0, 178.0, 183.0, 175.0, 188.0, 185.0, 183.0, 178.0, 183.0, 198.0, 180.0, 181.0, 180.0, 196.0, 190.0, 190.0, 190.0, 185.0, 185.0, 190.0, 188.0, 180.0, 173.0, 178.0, 196.0, 193.0, 175.0, 188.0, 183.0, 190.0, 188.0, 190.0, 170.0, 183.0, 183.0, 190.0, 198.0, 183.0, 201.0, 170.0, 172.0, 196.0, 175.0, 185.0, 180.0, 175.0, 163.0, 185.0, 180.0, 183.0, 188.0, 180.0, 178.0, 170.0, 185.0, 185.0, 183.0, 183.0, 175.0, 180.0, 196.0, 188.0, 183.0, 190.0, 185.0, 185.0, 178.0, 178.0, 190.0, 188.0, 183.0, 188.0, 173.0, 180.0, 190.0, 185.0, 178.0, 193.0, 193.0, 183.0, 178.0, 183.0, 188.0, 185.0, 188.0, 185.0, 188.0, 188.0, 180.0, 185.0, 180.0, 190.0, 193.0, 185.0, 183.0, 193.0, 183.0, 208.0, 183.0, 185.0, 185.0, 183.0, 190.0, 180.0, 190.0, 180.0, 185.0, 173.0, 188.0, 203.0, 175.0, 178.0, 178.0, 185.0, 188.0, 185.0, 206.0, 183.0, 190.0, 193.0, 183.0, 190.0, 198.0, 185.0, 188.0, 185.0, 183.0, 190.0, 180.0, 178.0, 203.0, 203.0, 180.0, 190.0, 193.0, 188.0, 180.0, 175.0, 185.0, 180.0, 185.0, 196.0, 190.0, 185.0, 193.0, 188.0, 190.0, 185.0, 183.0, 188.0, 198.0, 194.0, 196.0, 193.0, 190.0, 190.0, 183.0, 188.0, 188.0, 175.0, 193.0, 190.0, 173.0, 185.0, 188.0, 183.0, 183.0, 196.0, 190.0, 193.0, 183.0, 173.0, 183.0, 188.0, 190.0, 183.0, 178.0, 185.0, 188.0, 168.0, 180.0, 180.0, 188.0, 180.0, 183.0, 190.0, 185.0, 183.0, 185.0, 183.0, 180.0, 178.0, 185.0, 188.0, 188.0, 185.0, 185.0, 180.0, 193.0, 175.0, 175.0, 185.0, 180.0, 183.0, 190.0, 183.0, 190.0, 193.0, 185.0, 178.0, 183.0, 183.0, 178.0, 183.0, 196.0, 183.0, 198.0, 190.0, 188.0, 178.0, 183.0, 175.0, 193.0, 185.0, 183.0, 183.0, 180.0, 183.0, 175.0, 185.0, 178.0, 188.0, 180.0, 188.0, 188.0, 178.0, 193.0, 180.0, 203.0, 188.0, 175.0, 180.0, 196.0, 188.0, 180.0, 193.0, 185.0, 173.0, 198.0, 193.0, 173.0, 183.0, 180.0, 185.0, 180.0, 173.0, 188.0], \"type\": \"box\", \"uid\": \"24315387-e718-47cc-afa1-9b47e14a3952\"}], {\"title\": {\"text\": \"Boxplot of players height in Grand Slam\"}, \"xaxis\": {\"title\": {\"text\": \"Height\"}}}, {\"showLink\": true, \"linkText\": \"Export to plot.ly\", \"plotlyServerURL\": \"https://plot.ly\"}); \n",
       "}\n",
       "});</script><script type=\"text/javascript\">window.addEventListener(\"resize\", function(){if (document.getElementById(\"b88060da-c6b1-47a8-af5c-d499e8f3ab1a\")) {window._Plotly.Plots.resize(document.getElementById(\"b88060da-c6b1-47a8-af5c-d499e8f3ab1a\"));};})</script>"
      ],
      "text/vnd.plotly.v1+html": [
       "<div id=\"b88060da-c6b1-47a8-af5c-d499e8f3ab1a\" style=\"height: 525px; width: 100%;\" class=\"plotly-graph-div\"></div><script type=\"text/javascript\">require([\"plotly\"], function(Plotly) { window.PLOTLYENV=window.PLOTLYENV || {};window.PLOTLYENV.BASE_URL=\"https://plot.ly\";\n",
       "if (document.getElementById(\"b88060da-c6b1-47a8-af5c-d499e8f3ab1a\")) {\n",
       "    Plotly.newPlot(\"b88060da-c6b1-47a8-af5c-d499e8f3ab1a\", [{\"boxpoints\": \"all\", \"marker\": {\"color\": \"rgb(60,81,156)\"}, \"x\": [183.0, 178.0, 183.0, 175.0, 188.0, 185.0, 183.0, 178.0, 183.0, 198.0, 180.0, 181.0, 180.0, 196.0, 190.0, 190.0, 190.0, 185.0, 185.0, 190.0, 188.0, 180.0, 173.0, 178.0, 196.0, 193.0, 175.0, 188.0, 183.0, 190.0, 188.0, 190.0, 170.0, 183.0, 183.0, 190.0, 198.0, 183.0, 201.0, 170.0, 172.0, 196.0, 175.0, 185.0, 180.0, 175.0, 163.0, 185.0, 180.0, 183.0, 188.0, 180.0, 178.0, 170.0, 185.0, 185.0, 183.0, 183.0, 175.0, 180.0, 196.0, 188.0, 183.0, 190.0, 185.0, 185.0, 178.0, 178.0, 190.0, 188.0, 183.0, 188.0, 173.0, 180.0, 190.0, 185.0, 178.0, 193.0, 193.0, 183.0, 178.0, 183.0, 188.0, 185.0, 188.0, 185.0, 188.0, 188.0, 180.0, 185.0, 180.0, 190.0, 193.0, 185.0, 183.0, 193.0, 183.0, 208.0, 183.0, 185.0, 185.0, 183.0, 190.0, 180.0, 190.0, 180.0, 185.0, 173.0, 188.0, 203.0, 175.0, 178.0, 178.0, 185.0, 188.0, 185.0, 206.0, 183.0, 190.0, 193.0, 183.0, 190.0, 198.0, 185.0, 188.0, 185.0, 183.0, 190.0, 180.0, 178.0, 203.0, 203.0, 180.0, 190.0, 193.0, 188.0, 180.0, 175.0, 185.0, 180.0, 185.0, 196.0, 190.0, 185.0, 193.0, 188.0, 190.0, 185.0, 183.0, 188.0, 198.0, 194.0, 196.0, 193.0, 190.0, 190.0, 183.0, 188.0, 188.0, 175.0, 193.0, 190.0, 173.0, 185.0, 188.0, 183.0, 183.0, 196.0, 190.0, 193.0, 183.0, 173.0, 183.0, 188.0, 190.0, 183.0, 178.0, 185.0, 188.0, 168.0, 180.0, 180.0, 188.0, 180.0, 183.0, 190.0, 185.0, 183.0, 185.0, 183.0, 180.0, 178.0, 185.0, 188.0, 188.0, 185.0, 185.0, 180.0, 193.0, 175.0, 175.0, 185.0, 180.0, 183.0, 190.0, 183.0, 190.0, 193.0, 185.0, 178.0, 183.0, 183.0, 178.0, 183.0, 196.0, 183.0, 198.0, 190.0, 188.0, 178.0, 183.0, 175.0, 193.0, 185.0, 183.0, 183.0, 180.0, 183.0, 175.0, 185.0, 178.0, 188.0, 180.0, 188.0, 188.0, 178.0, 193.0, 180.0, 203.0, 188.0, 175.0, 180.0, 196.0, 188.0, 180.0, 193.0, 185.0, 173.0, 198.0, 193.0, 173.0, 183.0, 180.0, 185.0, 180.0, 173.0, 188.0], \"type\": \"box\", \"uid\": \"24315387-e718-47cc-afa1-9b47e14a3952\"}], {\"title\": {\"text\": \"Boxplot of players height in Grand Slam\"}, \"xaxis\": {\"title\": {\"text\": \"Height\"}}}, {\"showLink\": true, \"linkText\": \"Export to plot.ly\", \"plotlyServerURL\": \"https://plot.ly\"}); \n",
       "}\n",
       "});</script><script type=\"text/javascript\">window.addEventListener(\"resize\", function(){if (document.getElementById(\"b88060da-c6b1-47a8-af5c-d499e8f3ab1a\")) {window._Plotly.Plots.resize(document.getElementById(\"b88060da-c6b1-47a8-af5c-d499e8f3ab1a\"));};})</script>"
      ]
     },
     "metadata": {},
     "output_type": "display_data"
    }
   ],
   "source": [
    "# Create boxplot instances\n",
    "trace0 = go.Box(x=ace_height_combined['Ace'],      # plot for Height\n",
    "                boxpoints='all',                   # boxpoint style\n",
    "                marker = dict(\n",
    "                        color = 'rgb(8,81,156)',\n",
    "                        outliercolor = 'rgba(219, 64, 82, 0.6)')\n",
    ")\n",
    "                \n",
    "trace1 = go.Box(x=ace_height_combined['Height'],   # plot for Ace\n",
    "               boxpoints='all',                    # boxpoint\n",
    "               marker = dict(\n",
    "                        color = 'rgb(60,81,156)',\n",
    "                       )\n",
    ")\n",
    "\n",
    "data0=[trace0]\n",
    "data1=[trace1]\n",
    "\n",
    "# Create layout for Height boxplot\n",
    "layout1 = dict(title = 'Boxplot of avg no. of Ace in Grand Slam',\n",
    "               xaxis = dict(title= 'Avg. no. of Ace'))\n",
    "#{'xaxis': {'showgrid':False,'zeroline':False, 'tickangle':60,'showticklabels':False}\n",
    "\n",
    "\n",
    "# Create layout for Ace boxplot\n",
    "layout2 = dict(title = 'Boxplot of players height in Grand Slam',\n",
    "              xaxis = dict(title = 'Height'))\n",
    "\n",
    "# Create boxplot object\n",
    "fig1 = go.Figure(data=data0, layout=layout1)\n",
    "\n",
    "fig2 = go.Figure(data=data1, layout=layout2)\n",
    "\n",
    "# Execute plot\n",
    "fig1.iplot(filename='box-plot1')\n",
    "\n",
    "fig2.iplot(filename='box-plot2')\n",
    "\n",
    "\n",
    "\n",
    "\n",
    "\n"
   ]
  },
  {
   "cell_type": "code",
   "execution_count": null,
   "metadata": {},
   "outputs": [],
   "source": []
  },
  {
   "cell_type": "code",
   "execution_count": 33,
   "metadata": {},
   "outputs": [
    {
     "name": "stderr",
     "output_type": "stream",
     "text": [
      "/anaconda3/lib/python3.7/site-packages/scipy/stats/stats.py:1713: FutureWarning:\n",
      "\n",
      "Using a non-tuple sequence for multidimensional indexing is deprecated; use `arr[tuple(seq)]` instead of `arr[seq]`. In the future this will be interpreted as an array index, `arr[np.array(seq)]`, which will result either in an error or a different result.\n",
      "\n"
     ]
    },
    {
     "data": {
      "text/plain": [
       "<matplotlib.axes._subplots.AxesSubplot at 0x1c1ce4cbe0>"
      ]
     },
     "execution_count": 33,
     "metadata": {},
     "output_type": "execute_result"
    },
    {
     "data": {
      "image/png": "[encoded data removed]",
      "text/plain": [
       "<Figure size 864x864 with 1 Axes>"
      ]
     },
     "metadata": {
      "needs_background": "light"
     },
     "output_type": "display_data"
    }
   ],
   "source": [
    "plt.figure(figsize=(12,12))\n",
    "sns.regplot(x='Ace',y='Height',data=ace_height_combined)\n"
   ]
  },
  {
   "cell_type": "code",
   "execution_count": 34,
   "metadata": {},
   "outputs": [
    {
     "data": {
      "text/html": [
       "<div>\n",
       "<style scoped>\n",
       "    .dataframe tbody tr th:only-of-type {\n",
       "        vertical-align: middle;\n",
       "    }\n",
       "\n",
       "    .dataframe tbody tr th {\n",
       "        vertical-align: top;\n",
       "    }\n",
       "\n",
       "    .dataframe thead th {\n",
       "        text-align: right;\n",
       "    }\n",
       "</style>\n",
       "<table border=\"1\" class=\"dataframe\">\n",
       "  <thead>\n",
       "    <tr style=\"text-align: right;\">\n",
       "      <th></th>\n",
       "      <th>Ace</th>\n",
       "      <th>Height</th>\n",
       "    </tr>\n",
       "  </thead>\n",
       "  <tbody>\n",
       "    <tr>\n",
       "      <th>Ace</th>\n",
       "      <td>1.000000</td>\n",
       "      <td>0.575876</td>\n",
       "    </tr>\n",
       "    <tr>\n",
       "      <th>Height</th>\n",
       "      <td>0.575876</td>\n",
       "      <td>1.000000</td>\n",
       "    </tr>\n",
       "  </tbody>\n",
       "</table>\n",
       "</div>"
      ],
      "text/plain": [
       "             Ace    Height\n",
       "Ace     1.000000  0.575876\n",
       "Height  0.575876  1.000000"
      ]
     },
     "execution_count": 34,
     "metadata": {},
     "output_type": "execute_result"
    }
   ],
   "source": [
    "# The correlation value\n",
    "ace_height_combined.corr()"
   ]
  },
  {
   "cell_type": "markdown",
   "metadata": {},
   "source": [
    "## 2 sample T-test (independent variable)"
   ]
  },
  {
   "cell_type": "code",
   "execution_count": 35,
   "metadata": {},
   "outputs": [],
   "source": [
    "# Get the Ace sample from tallest 50 players\n",
    "short_sample=ace_height_combined.nsmallest(50,'Height')['Ace']"
   ]
  },
  {
   "cell_type": "code",
   "execution_count": 36,
   "metadata": {},
   "outputs": [],
   "source": [
    "# Get the Ace sample from shortest 50 players\n",
    "tall_sample=ace_height_combined.nlargest(50,'Height')['Ace']"
   ]
  },
  {
   "cell_type": "code",
   "execution_count": 37,
   "metadata": {},
   "outputs": [
    {
     "data": {
      "text/plain": [
       "Ttest_indResult(statistic=-8.50323378382352, pvalue=2.071807083652627e-12)"
      ]
     },
     "execution_count": 37,
     "metadata": {},
     "output_type": "execute_result"
    }
   ],
   "source": [
    "# 2 Sample T-test independent variable\n",
    "stats.ttest_ind(short_sample,tall_sample,equal_var=False)\n"
   ]
  },
  {
   "cell_type": "markdown",
   "metadata": {},
   "source": [
    "## Left hand player is harder to play against"
   ]
  },
  {
   "cell_type": "code",
   "execution_count": 38,
   "metadata": {},
   "outputs": [],
   "source": [
    "# Replace U value in winner_hand to R, after verifying on internet the play hand of each of them\n",
    "scores_without_ret.replace({'winner_hand':'U'},value='R',inplace=True)"
   ]
  },
  {
   "cell_type": "code",
   "execution_count": 39,
   "metadata": {},
   "outputs": [
    {
     "data": {
      "text/plain": [
       "array(['L', 'R'], dtype=object)"
      ]
     },
     "execution_count": 39,
     "metadata": {},
     "output_type": "execute_result"
    }
   ],
   "source": [
    "# Double check\n",
    "scores_without_ret['winner_hand'].unique()"
   ]
  },
  {
   "cell_type": "code",
   "execution_count": 40,
   "metadata": {},
   "outputs": [],
   "source": [
    "# Replace U value in loser_hand to R, after verifying on internet the play hand of each of them\n",
    "scores_without_ret.replace({'loser_hand':'U'},value='R',inplace=True)"
   ]
  },
  {
   "cell_type": "code",
   "execution_count": 41,
   "metadata": {},
   "outputs": [
    {
     "data": {
      "text/plain": [
       "array(['R', 'L'], dtype=object)"
      ]
     },
     "execution_count": 41,
     "metadata": {},
     "output_type": "execute_result"
    }
   ],
   "source": [
    "# Double check\n",
    "scores_without_ret['loser_hand'].unique()"
   ]
  },
  {
   "cell_type": "code",
   "execution_count": 42,
   "metadata": {},
   "outputs": [],
   "source": [
    "# assign to new name for further analysing\n",
    "u_hand_eliminate=scores_without_ret"
   ]
  },
  {
   "cell_type": "code",
   "execution_count": 43,
   "metadata": {},
   "outputs": [
    {
     "data": {
      "text/html": [
       "<div>\n",
       "<style scoped>\n",
       "    .dataframe tbody tr th:only-of-type {\n",
       "        vertical-align: middle;\n",
       "    }\n",
       "\n",
       "    .dataframe tbody tr th {\n",
       "        vertical-align: top;\n",
       "    }\n",
       "\n",
       "    .dataframe thead th {\n",
       "        text-align: right;\n",
       "    }\n",
       "</style>\n",
       "<table border=\"1\" class=\"dataframe\">\n",
       "  <thead>\n",
       "    <tr style=\"text-align: right;\">\n",
       "      <th></th>\n",
       "      <th></th>\n",
       "      <th>tourney_id</th>\n",
       "      <th>tourney_name</th>\n",
       "      <th>surface</th>\n",
       "      <th>tourney_level</th>\n",
       "      <th>tourney_date</th>\n",
       "      <th>winner_name</th>\n",
       "      <th>winner_ht</th>\n",
       "      <th>winner_ioc</th>\n",
       "      <th>winner_rank</th>\n",
       "      <th>loser_name</th>\n",
       "      <th>loser_ht</th>\n",
       "      <th>loser_ioc</th>\n",
       "      <th>loser_rank</th>\n",
       "      <th>score</th>\n",
       "      <th>round</th>\n",
       "      <th>minutes</th>\n",
       "      <th>w_ace</th>\n",
       "      <th>w_df</th>\n",
       "      <th>w_svpt</th>\n",
       "      <th>w_1stIn</th>\n",
       "      <th>w_1stWon</th>\n",
       "      <th>w_2ndWon</th>\n",
       "      <th>w_SvGms</th>\n",
       "      <th>w_bpSaved</th>\n",
       "      <th>w_bpFaced</th>\n",
       "      <th>l_ace</th>\n",
       "      <th>l_df</th>\n",
       "      <th>l_svpt</th>\n",
       "      <th>l_1stIn</th>\n",
       "      <th>l_1stWon</th>\n",
       "      <th>l_2ndWon</th>\n",
       "      <th>l_SvGms</th>\n",
       "      <th>l_bpSaved</th>\n",
       "      <th>l_bpFaced</th>\n",
       "      <th>1st_set</th>\n",
       "      <th>2nd_set</th>\n",
       "      <th>3rd_set</th>\n",
       "      <th>4th_set</th>\n",
       "      <th>5th_set</th>\n",
       "    </tr>\n",
       "    <tr>\n",
       "      <th>loser_hand</th>\n",
       "      <th>winner_hand</th>\n",
       "      <th></th>\n",
       "      <th></th>\n",
       "      <th></th>\n",
       "      <th></th>\n",
       "      <th></th>\n",
       "      <th></th>\n",
       "      <th></th>\n",
       "      <th></th>\n",
       "      <th></th>\n",
       "      <th></th>\n",
       "      <th></th>\n",
       "      <th></th>\n",
       "      <th></th>\n",
       "      <th></th>\n",
       "      <th></th>\n",
       "      <th></th>\n",
       "      <th></th>\n",
       "      <th></th>\n",
       "      <th></th>\n",
       "      <th></th>\n",
       "      <th></th>\n",
       "      <th></th>\n",
       "      <th></th>\n",
       "      <th></th>\n",
       "      <th></th>\n",
       "      <th></th>\n",
       "      <th></th>\n",
       "      <th></th>\n",
       "      <th></th>\n",
       "      <th></th>\n",
       "      <th></th>\n",
       "      <th></th>\n",
       "      <th></th>\n",
       "      <th></th>\n",
       "      <th></th>\n",
       "      <th></th>\n",
       "      <th></th>\n",
       "      <th></th>\n",
       "      <th></th>\n",
       "    </tr>\n",
       "  </thead>\n",
       "  <tbody>\n",
       "    <tr>\n",
       "      <th rowspan=\"2\" valign=\"top\">L</th>\n",
       "      <th>L</th>\n",
       "      <td>86</td>\n",
       "      <td>86</td>\n",
       "      <td>86</td>\n",
       "      <td>86</td>\n",
       "      <td>86</td>\n",
       "      <td>86</td>\n",
       "      <td>86</td>\n",
       "      <td>86</td>\n",
       "      <td>86</td>\n",
       "      <td>86</td>\n",
       "      <td>86</td>\n",
       "      <td>86</td>\n",
       "      <td>86</td>\n",
       "      <td>86</td>\n",
       "      <td>86</td>\n",
       "      <td>86</td>\n",
       "      <td>86</td>\n",
       "      <td>86</td>\n",
       "      <td>86</td>\n",
       "      <td>86</td>\n",
       "      <td>86</td>\n",
       "      <td>86</td>\n",
       "      <td>86</td>\n",
       "      <td>86</td>\n",
       "      <td>86</td>\n",
       "      <td>86</td>\n",
       "      <td>86</td>\n",
       "      <td>86</td>\n",
       "      <td>86</td>\n",
       "      <td>86</td>\n",
       "      <td>86</td>\n",
       "      <td>86</td>\n",
       "      <td>86</td>\n",
       "      <td>86</td>\n",
       "      <td>86</td>\n",
       "      <td>86</td>\n",
       "      <td>86</td>\n",
       "      <td>35</td>\n",
       "      <td>11</td>\n",
       "    </tr>\n",
       "    <tr>\n",
       "      <th>R</th>\n",
       "      <td>477</td>\n",
       "      <td>477</td>\n",
       "      <td>477</td>\n",
       "      <td>477</td>\n",
       "      <td>477</td>\n",
       "      <td>477</td>\n",
       "      <td>477</td>\n",
       "      <td>477</td>\n",
       "      <td>477</td>\n",
       "      <td>477</td>\n",
       "      <td>477</td>\n",
       "      <td>477</td>\n",
       "      <td>477</td>\n",
       "      <td>477</td>\n",
       "      <td>477</td>\n",
       "      <td>477</td>\n",
       "      <td>477</td>\n",
       "      <td>477</td>\n",
       "      <td>477</td>\n",
       "      <td>477</td>\n",
       "      <td>477</td>\n",
       "      <td>477</td>\n",
       "      <td>477</td>\n",
       "      <td>477</td>\n",
       "      <td>477</td>\n",
       "      <td>477</td>\n",
       "      <td>477</td>\n",
       "      <td>477</td>\n",
       "      <td>477</td>\n",
       "      <td>477</td>\n",
       "      <td>477</td>\n",
       "      <td>477</td>\n",
       "      <td>477</td>\n",
       "      <td>477</td>\n",
       "      <td>477</td>\n",
       "      <td>477</td>\n",
       "      <td>477</td>\n",
       "      <td>216</td>\n",
       "      <td>86</td>\n",
       "    </tr>\n",
       "    <tr>\n",
       "      <th rowspan=\"2\" valign=\"top\">R</th>\n",
       "      <th>L</th>\n",
       "      <td>463</td>\n",
       "      <td>463</td>\n",
       "      <td>463</td>\n",
       "      <td>463</td>\n",
       "      <td>463</td>\n",
       "      <td>463</td>\n",
       "      <td>463</td>\n",
       "      <td>463</td>\n",
       "      <td>463</td>\n",
       "      <td>463</td>\n",
       "      <td>463</td>\n",
       "      <td>463</td>\n",
       "      <td>463</td>\n",
       "      <td>463</td>\n",
       "      <td>463</td>\n",
       "      <td>463</td>\n",
       "      <td>463</td>\n",
       "      <td>463</td>\n",
       "      <td>463</td>\n",
       "      <td>463</td>\n",
       "      <td>463</td>\n",
       "      <td>463</td>\n",
       "      <td>463</td>\n",
       "      <td>463</td>\n",
       "      <td>463</td>\n",
       "      <td>463</td>\n",
       "      <td>463</td>\n",
       "      <td>463</td>\n",
       "      <td>463</td>\n",
       "      <td>463</td>\n",
       "      <td>463</td>\n",
       "      <td>463</td>\n",
       "      <td>463</td>\n",
       "      <td>463</td>\n",
       "      <td>463</td>\n",
       "      <td>463</td>\n",
       "      <td>463</td>\n",
       "      <td>222</td>\n",
       "      <td>97</td>\n",
       "    </tr>\n",
       "    <tr>\n",
       "      <th>R</th>\n",
       "      <td>3141</td>\n",
       "      <td>3141</td>\n",
       "      <td>3141</td>\n",
       "      <td>3141</td>\n",
       "      <td>3141</td>\n",
       "      <td>3141</td>\n",
       "      <td>3141</td>\n",
       "      <td>3141</td>\n",
       "      <td>3141</td>\n",
       "      <td>3141</td>\n",
       "      <td>3141</td>\n",
       "      <td>3141</td>\n",
       "      <td>3141</td>\n",
       "      <td>3141</td>\n",
       "      <td>3141</td>\n",
       "      <td>3141</td>\n",
       "      <td>3141</td>\n",
       "      <td>3141</td>\n",
       "      <td>3141</td>\n",
       "      <td>3141</td>\n",
       "      <td>3141</td>\n",
       "      <td>3141</td>\n",
       "      <td>3141</td>\n",
       "      <td>3141</td>\n",
       "      <td>3141</td>\n",
       "      <td>3141</td>\n",
       "      <td>3141</td>\n",
       "      <td>3141</td>\n",
       "      <td>3141</td>\n",
       "      <td>3141</td>\n",
       "      <td>3141</td>\n",
       "      <td>3141</td>\n",
       "      <td>3141</td>\n",
       "      <td>3141</td>\n",
       "      <td>3141</td>\n",
       "      <td>3141</td>\n",
       "      <td>3140</td>\n",
       "      <td>1549</td>\n",
       "      <td>577</td>\n",
       "    </tr>\n",
       "  </tbody>\n",
       "</table>\n",
       "</div>"
      ],
      "text/plain": [
       "                        tourney_id  tourney_name  surface  tourney_level  \\\n",
       "loser_hand winner_hand                                                     \n",
       "L          L                    86            86       86             86   \n",
       "           R                   477           477      477            477   \n",
       "R          L                   463           463      463            463   \n",
       "           R                  3141          3141     3141           3141   \n",
       "\n",
       "                        tourney_date  winner_name  winner_ht  winner_ioc  \\\n",
       "loser_hand winner_hand                                                     \n",
       "L          L                      86           86         86          86   \n",
       "           R                     477          477        477         477   \n",
       "R          L                     463          463        463         463   \n",
       "           R                    3141         3141       3141        3141   \n",
       "\n",
       "                        winner_rank  loser_name  loser_ht  loser_ioc  \\\n",
       "loser_hand winner_hand                                                 \n",
       "L          L                     86          86        86         86   \n",
       "           R                    477         477       477        477   \n",
       "R          L                    463         463       463        463   \n",
       "           R                   3141        3141      3141       3141   \n",
       "\n",
       "                        loser_rank  score  round  minutes  w_ace  w_df  \\\n",
       "loser_hand winner_hand                                                   \n",
       "L          L                    86     86     86       86     86    86   \n",
       "           R                   477    477    477      477    477   477   \n",
       "R          L                   463    463    463      463    463   463   \n",
       "           R                  3141   3141   3141     3141   3141  3141   \n",
       "\n",
       "                        w_svpt  w_1stIn  w_1stWon  w_2ndWon  w_SvGms  \\\n",
       "loser_hand winner_hand                                                 \n",
       "L          L                86       86        86        86       86   \n",
       "           R               477      477       477       477      477   \n",
       "R          L               463      463       463       463      463   \n",
       "           R              3141     3141      3141      3141     3141   \n",
       "\n",
       "                        w_bpSaved  w_bpFaced  l_ace  l_df  l_svpt  l_1stIn  \\\n",
       "loser_hand winner_hand                                                       \n",
       "L          L                   86         86     86    86      86       86   \n",
       "           R                  477        477    477   477     477      477   \n",
       "R          L                  463        463    463   463     463      463   \n",
       "           R                 3141       3141   3141  3141    3141     3141   \n",
       "\n",
       "                        l_1stWon  l_2ndWon  l_SvGms  l_bpSaved  l_bpFaced  \\\n",
       "loser_hand winner_hand                                                      \n",
       "L          L                  86        86       86         86         86   \n",
       "           R                 477       477      477        477        477   \n",
       "R          L                 463       463      463        463        463   \n",
       "           R                3141      3141     3141       3141       3141   \n",
       "\n",
       "                        1st_set  2nd_set  3rd_set  4th_set  5th_set  \n",
       "loser_hand winner_hand                                               \n",
       "L          L                 86       86       86       35       11  \n",
       "           R                477      477      477      216       86  \n",
       "R          L                463      463      463      222       97  \n",
       "           R               3141     3141     3140     1549      577  "
      ]
     },
     "execution_count": 43,
     "metadata": {},
     "output_type": "execute_result"
    }
   ],
   "source": [
    "u_hand_eliminate.groupby(['loser_hand','winner_hand']).count()"
   ]
  },
  {
   "cell_type": "code",
   "execution_count": 44,
   "metadata": {},
   "outputs": [],
   "source": [
    "l_r=u_hand_eliminate[u_hand_eliminate['winner_hand']!=u_hand_eliminate['loser_hand']].groupby('winner_hand').count()"
   ]
  },
  {
   "cell_type": "code",
   "execution_count": 45,
   "metadata": {},
   "outputs": [
    {
     "data": {
      "text/html": [
       "<div>\n",
       "<style scoped>\n",
       "    .dataframe tbody tr th:only-of-type {\n",
       "        vertical-align: middle;\n",
       "    }\n",
       "\n",
       "    .dataframe tbody tr th {\n",
       "        vertical-align: top;\n",
       "    }\n",
       "\n",
       "    .dataframe thead th {\n",
       "        text-align: right;\n",
       "    }\n",
       "</style>\n",
       "<table border=\"1\" class=\"dataframe\">\n",
       "  <thead>\n",
       "    <tr style=\"text-align: right;\">\n",
       "      <th></th>\n",
       "      <th>winner_hand</th>\n",
       "      <th>tourney_id</th>\n",
       "      <th>tourney_name</th>\n",
       "      <th>surface</th>\n",
       "      <th>tourney_level</th>\n",
       "      <th>tourney_date</th>\n",
       "      <th>winner_name</th>\n",
       "      <th>winner_ht</th>\n",
       "      <th>winner_ioc</th>\n",
       "      <th>winner_rank</th>\n",
       "      <th>loser_name</th>\n",
       "      <th>loser_hand</th>\n",
       "      <th>loser_ht</th>\n",
       "      <th>loser_ioc</th>\n",
       "      <th>loser_rank</th>\n",
       "      <th>score</th>\n",
       "      <th>round</th>\n",
       "      <th>minutes</th>\n",
       "      <th>w_ace</th>\n",
       "      <th>w_df</th>\n",
       "      <th>w_svpt</th>\n",
       "      <th>w_1stIn</th>\n",
       "      <th>w_1stWon</th>\n",
       "      <th>w_2ndWon</th>\n",
       "      <th>w_SvGms</th>\n",
       "      <th>w_bpSaved</th>\n",
       "      <th>w_bpFaced</th>\n",
       "      <th>l_ace</th>\n",
       "      <th>l_df</th>\n",
       "      <th>l_svpt</th>\n",
       "      <th>l_1stIn</th>\n",
       "      <th>l_1stWon</th>\n",
       "      <th>l_2ndWon</th>\n",
       "      <th>l_SvGms</th>\n",
       "      <th>l_bpSaved</th>\n",
       "      <th>l_bpFaced</th>\n",
       "      <th>1st_set</th>\n",
       "      <th>2nd_set</th>\n",
       "      <th>3rd_set</th>\n",
       "      <th>4th_set</th>\n",
       "      <th>5th_set</th>\n",
       "    </tr>\n",
       "  </thead>\n",
       "  <tbody>\n",
       "    <tr>\n",
       "      <th>0</th>\n",
       "      <td>L</td>\n",
       "      <td>463</td>\n",
       "      <td>463</td>\n",
       "      <td>463</td>\n",
       "      <td>463</td>\n",
       "      <td>463</td>\n",
       "      <td>463</td>\n",
       "      <td>463</td>\n",
       "      <td>463</td>\n",
       "      <td>463</td>\n",
       "      <td>463</td>\n",
       "      <td>463</td>\n",
       "      <td>463</td>\n",
       "      <td>463</td>\n",
       "      <td>463</td>\n",
       "      <td>463</td>\n",
       "      <td>463</td>\n",
       "      <td>463</td>\n",
       "      <td>463</td>\n",
       "      <td>463</td>\n",
       "      <td>463</td>\n",
       "      <td>463</td>\n",
       "      <td>463</td>\n",
       "      <td>463</td>\n",
       "      <td>463</td>\n",
       "      <td>463</td>\n",
       "      <td>463</td>\n",
       "      <td>463</td>\n",
       "      <td>463</td>\n",
       "      <td>463</td>\n",
       "      <td>463</td>\n",
       "      <td>463</td>\n",
       "      <td>463</td>\n",
       "      <td>463</td>\n",
       "      <td>463</td>\n",
       "      <td>463</td>\n",
       "      <td>463</td>\n",
       "      <td>463</td>\n",
       "      <td>463</td>\n",
       "      <td>222</td>\n",
       "      <td>97</td>\n",
       "    </tr>\n",
       "    <tr>\n",
       "      <th>1</th>\n",
       "      <td>R</td>\n",
       "      <td>477</td>\n",
       "      <td>477</td>\n",
       "      <td>477</td>\n",
       "      <td>477</td>\n",
       "      <td>477</td>\n",
       "      <td>477</td>\n",
       "      <td>477</td>\n",
       "      <td>477</td>\n",
       "      <td>477</td>\n",
       "      <td>477</td>\n",
       "      <td>477</td>\n",
       "      <td>477</td>\n",
       "      <td>477</td>\n",
       "      <td>477</td>\n",
       "      <td>477</td>\n",
       "      <td>477</td>\n",
       "      <td>477</td>\n",
       "      <td>477</td>\n",
       "      <td>477</td>\n",
       "      <td>477</td>\n",
       "      <td>477</td>\n",
       "      <td>477</td>\n",
       "      <td>477</td>\n",
       "      <td>477</td>\n",
       "      <td>477</td>\n",
       "      <td>477</td>\n",
       "      <td>477</td>\n",
       "      <td>477</td>\n",
       "      <td>477</td>\n",
       "      <td>477</td>\n",
       "      <td>477</td>\n",
       "      <td>477</td>\n",
       "      <td>477</td>\n",
       "      <td>477</td>\n",
       "      <td>477</td>\n",
       "      <td>477</td>\n",
       "      <td>477</td>\n",
       "      <td>477</td>\n",
       "      <td>216</td>\n",
       "      <td>86</td>\n",
       "    </tr>\n",
       "  </tbody>\n",
       "</table>\n",
       "</div>"
      ],
      "text/plain": [
       "  winner_hand  tourney_id  tourney_name  surface  tourney_level  tourney_date  \\\n",
       "0           L         463           463      463            463           463   \n",
       "1           R         477           477      477            477           477   \n",
       "\n",
       "   winner_name  winner_ht  winner_ioc  winner_rank  loser_name  loser_hand  \\\n",
       "0          463        463         463          463         463         463   \n",
       "1          477        477         477          477         477         477   \n",
       "\n",
       "   loser_ht  loser_ioc  loser_rank  score  round  minutes  w_ace  w_df  \\\n",
       "0       463        463         463    463    463      463    463   463   \n",
       "1       477        477         477    477    477      477    477   477   \n",
       "\n",
       "   w_svpt  w_1stIn  w_1stWon  w_2ndWon  w_SvGms  w_bpSaved  w_bpFaced  l_ace  \\\n",
       "0     463      463       463       463      463        463        463    463   \n",
       "1     477      477       477       477      477        477        477    477   \n",
       "\n",
       "   l_df  l_svpt  l_1stIn  l_1stWon  l_2ndWon  l_SvGms  l_bpSaved  l_bpFaced  \\\n",
       "0   463     463      463       463       463      463        463        463   \n",
       "1   477     477      477       477       477      477        477        477   \n",
       "\n",
       "   1st_set  2nd_set  3rd_set  4th_set  5th_set  \n",
       "0      463      463      463      222       97  \n",
       "1      477      477      477      216       86  "
      ]
     },
     "execution_count": 45,
     "metadata": {},
     "output_type": "execute_result"
    }
   ],
   "source": [
    "l_r.reset_index()"
   ]
  },
  {
   "cell_type": "code",
   "execution_count": 46,
   "metadata": {},
   "outputs": [],
   "source": [
    "# Assigning dataframe values to variable\n",
    "l=l_r['winner_name'][0]\n",
    "r=l_r['winner_name'][1]\n",
    "label=[l_r['winner_name'][0],l_r['winner_name'][1]]"
   ]
  },
  {
   "cell_type": "code",
   "execution_count": 47,
   "metadata": {},
   "outputs": [
    {
     "data": {
      "application/vnd.plotly.v1+json": {
       "config": {
        "linkText": "Export to plot.ly",
        "plotlyServerURL": "https://plot.ly",
        "showLink": true
       },
       "data": [
        {
         "hole": 0.4,
         "hoverinfo": "label+percent+name",
         "labels": [
          "Left-handed player",
          "Right-handed player"
         ],
         "name": "CO2 Emissions",
         "text": [
          "Left-handed",
          "Right-handed"
         ],
         "textposition": "inside",
         "type": "pie",
         "uid": "9a032fc0-2303-4bd9-a561-2a9c2e547ff0",
         "values": [
          463,
          477
         ]
        }
       ],
       "layout": {
        "annotations": [
         {
          "font": {
           "size": 30
          },
          "showarrow": false,
          "text": "Winner",
          "x": 0.5,
          "y": 0.5
         }
        ],
        "title": {
         "text": "Left-handed VS Right-handed player"
        }
       }
      },
      "text/html": [
       "<div id=\"c9fec529-2dc1-4d1f-af2b-4272bdac6754\" style=\"height: 525px; width: 100%;\" class=\"plotly-graph-div\"></div><script type=\"text/javascript\">require([\"plotly\"], function(Plotly) { window.PLOTLYENV=window.PLOTLYENV || {};window.PLOTLYENV.BASE_URL=\"https://plot.ly\";\n",
       "if (document.getElementById(\"c9fec529-2dc1-4d1f-af2b-4272bdac6754\")) {\n",
       "    Plotly.newPlot(\"c9fec529-2dc1-4d1f-af2b-4272bdac6754\", [{\"hole\": 0.4, \"hoverinfo\": \"label+percent+name\", \"labels\": [\"Left-handed player\", \"Right-handed player\"], \"name\": \"CO2 Emissions\", \"text\": [\"Left-handed\", \"Right-handed\"], \"textposition\": \"inside\", \"values\": [463, 477], \"type\": \"pie\", \"uid\": \"9a032fc0-2303-4bd9-a561-2a9c2e547ff0\"}], {\"annotations\": [{\"font\": {\"size\": 30}, \"showarrow\": false, \"text\": \"Winner\", \"x\": 0.5, \"y\": 0.5}], \"title\": {\"text\": \"Left-handed VS Right-handed player\"}}, {\"showLink\": true, \"linkText\": \"Export to plot.ly\", \"plotlyServerURL\": \"https://plot.ly\"}); \n",
       "}\n",
       "});</script><script type=\"text/javascript\">window.addEventListener(\"resize\", function(){if (document.getElementById(\"c9fec529-2dc1-4d1f-af2b-4272bdac6754\")) {window._Plotly.Plots.resize(document.getElementById(\"c9fec529-2dc1-4d1f-af2b-4272bdac6754\"));};})</script>"
      ],
      "text/vnd.plotly.v1+html": [
       "<div id=\"c9fec529-2dc1-4d1f-af2b-4272bdac6754\" style=\"height: 525px; width: 100%;\" class=\"plotly-graph-div\"></div><script type=\"text/javascript\">require([\"plotly\"], function(Plotly) { window.PLOTLYENV=window.PLOTLYENV || {};window.PLOTLYENV.BASE_URL=\"https://plot.ly\";\n",
       "if (document.getElementById(\"c9fec529-2dc1-4d1f-af2b-4272bdac6754\")) {\n",
       "    Plotly.newPlot(\"c9fec529-2dc1-4d1f-af2b-4272bdac6754\", [{\"hole\": 0.4, \"hoverinfo\": \"label+percent+name\", \"labels\": [\"Left-handed player\", \"Right-handed player\"], \"name\": \"CO2 Emissions\", \"text\": [\"Left-handed\", \"Right-handed\"], \"textposition\": \"inside\", \"values\": [463, 477], \"type\": \"pie\", \"uid\": \"9a032fc0-2303-4bd9-a561-2a9c2e547ff0\"}], {\"annotations\": [{\"font\": {\"size\": 30}, \"showarrow\": false, \"text\": \"Winner\", \"x\": 0.5, \"y\": 0.5}], \"title\": {\"text\": \"Left-handed VS Right-handed player\"}}, {\"showLink\": true, \"linkText\": \"Export to plot.ly\", \"plotlyServerURL\": \"https://plot.ly\"}); \n",
       "}\n",
       "});</script><script type=\"text/javascript\">window.addEventListener(\"resize\", function(){if (document.getElementById(\"c9fec529-2dc1-4d1f-af2b-4272bdac6754\")) {window._Plotly.Plots.resize(document.getElementById(\"c9fec529-2dc1-4d1f-af2b-4272bdac6754\"));};})</script>"
      ]
     },
     "metadata": {},
     "output_type": "display_data"
    }
   ],
   "source": [
    "# Create figure object plotly\n",
    "fig =go.Figure( {\n",
    "    \"data\": [\n",
    "      {\n",
    "      \"values\": [l, r],\n",
    "      \"labels\": ['Left-handed player','Right-handed player'\n",
    "      ],\n",
    "      \"text\":[\"Left-handed\",\"Right-handed\"],\n",
    "      \"textposition\":\"inside\",\n",
    "      \n",
    "      \"name\": \"CO2 Emissions\",\n",
    "      \"hoverinfo\":\"label+percent+name\",\n",
    "      \"hole\": .4,\n",
    "      \"type\": \"pie\"\n",
    "    }],\n",
    "    \n",
    "    \"layout\": {\n",
    "        \"title\":\"Left-handed VS Right-handed player\",\n",
    "        \"annotations\": [\n",
    "            {\n",
    "                \"font\": {\n",
    "                    \"size\": 30\n",
    "                },\n",
    "                \"showarrow\": False,\n",
    "                \"text\": \"Winner\",\n",
    "                \"x\": 0.5,\n",
    "                \"y\": 0.5\n",
    "            }]\n",
    "    }\n",
    "})\n",
    "\n",
    "fig.iplot(filename='piechart')\n",
    "\n",
    "\n",
    "            "
   ]
  },
  {
   "cell_type": "markdown",
   "metadata": {},
   "source": [
    "## Correlation of rank difference and number of sets played"
   ]
  },
  {
   "cell_type": "code",
   "execution_count": 48,
   "metadata": {},
   "outputs": [
    {
     "data": {
      "text/plain": [
       "tourney_id       1093\n",
       "tourney_name     1093\n",
       "surface          1093\n",
       "tourney_level    1093\n",
       "tourney_date     1093\n",
       "winner_name      1093\n",
       "winner_hand      1093\n",
       "winner_ht        1093\n",
       "winner_ioc       1093\n",
       "winner_rank      1093\n",
       "loser_name       1093\n",
       "loser_hand       1093\n",
       "loser_ht         1093\n",
       "loser_ioc        1093\n",
       "loser_rank       1093\n",
       "score            1093\n",
       "round            1093\n",
       "minutes          1093\n",
       "w_ace            1093\n",
       "w_df             1093\n",
       "w_svpt           1093\n",
       "w_1stIn          1093\n",
       "w_1stWon         1093\n",
       "w_2ndWon         1093\n",
       "w_SvGms          1093\n",
       "w_bpSaved        1093\n",
       "w_bpFaced        1093\n",
       "l_ace            1093\n",
       "l_df             1093\n",
       "l_svpt           1093\n",
       "l_1stIn          1093\n",
       "l_1stWon         1093\n",
       "l_2ndWon         1093\n",
       "l_SvGms          1093\n",
       "l_bpSaved        1093\n",
       "l_bpFaced        1093\n",
       "1st_set          1093\n",
       "2nd_set          1093\n",
       "3rd_set          1093\n",
       "4th_set           676\n",
       "5th_set           301\n",
       "dtype: int64"
      ]
     },
     "execution_count": 48,
     "metadata": {},
     "output_type": "execute_result"
    }
   ],
   "source": [
    "scores_without_ret[scores_without_ret.winner_rank>scores_without_ret.loser_rank].count()"
   ]
  },
  {
   "cell_type": "code",
   "execution_count": 49,
   "metadata": {},
   "outputs": [],
   "source": [
    "import numpy as np\n",
    "scores_without_ret['winner_higher_ranking']=np.where(scores_without_ret.winner_rank> scores_without_ret.loser_rank,'no','yes')\n",
    "\n",
    "winner_high_ranking=scores_without_ret.groupby(['winner_higher_ranking']).count()"
   ]
  },
  {
   "cell_type": "code",
   "execution_count": 50,
   "metadata": {},
   "outputs": [],
   "source": [
    "no=winner_high_ranking['winner_name'][0]\n",
    "yes=winner_high_ranking['winner_name'][1]"
   ]
  },
  {
   "cell_type": "code",
   "execution_count": 51,
   "metadata": {},
   "outputs": [
    {
     "data": {
      "application/vnd.plotly.v1+json": {
       "config": {
        "linkText": "Export to plot.ly",
        "plotlyServerURL": "https://plot.ly",
        "showLink": true
       },
       "data": [
        {
         "hoverinfo": "label+percent+name",
         "labels": [
          "winner has lower ranking",
          "winner has higher ranking"
         ],
         "name": "CO2 Emissions",
         "textposition": "inside",
         "type": "pie",
         "uid": "9c39d722-2c1e-4222-9d7e-f11f25f3ceb0",
         "values": [
          1093,
          3074
         ]
        }
       ],
       "layout": {
        "title": {
         "text": "Is higher ranking player more likely to win?"
        }
       }
      },
      "text/html": [
       "<div id=\"68389bae-35ec-4aef-914c-3b4c3709b84d\" style=\"height: 525px; width: 100%;\" class=\"plotly-graph-div\"></div><script type=\"text/javascript\">require([\"plotly\"], function(Plotly) { window.PLOTLYENV=window.PLOTLYENV || {};window.PLOTLYENV.BASE_URL=\"https://plot.ly\";\n",
       "if (document.getElementById(\"68389bae-35ec-4aef-914c-3b4c3709b84d\")) {\n",
       "    Plotly.newPlot(\"68389bae-35ec-4aef-914c-3b4c3709b84d\", [{\"hoverinfo\": \"label+percent+name\", \"labels\": [\"winner has lower ranking\", \"winner has higher ranking\"], \"name\": \"CO2 Emissions\", \"textposition\": \"inside\", \"values\": [1093, 3074], \"type\": \"pie\", \"uid\": \"9c39d722-2c1e-4222-9d7e-f11f25f3ceb0\"}], {\"title\": {\"text\": \"Is higher ranking player more likely to win?\"}}, {\"showLink\": true, \"linkText\": \"Export to plot.ly\", \"plotlyServerURL\": \"https://plot.ly\"}); \n",
       "}\n",
       "});</script><script type=\"text/javascript\">window.addEventListener(\"resize\", function(){if (document.getElementById(\"68389bae-35ec-4aef-914c-3b4c3709b84d\")) {window._Plotly.Plots.resize(document.getElementById(\"68389bae-35ec-4aef-914c-3b4c3709b84d\"));};})</script>"
      ],
      "text/vnd.plotly.v1+html": [
       "<div id=\"68389bae-35ec-4aef-914c-3b4c3709b84d\" style=\"height: 525px; width: 100%;\" class=\"plotly-graph-div\"></div><script type=\"text/javascript\">require([\"plotly\"], function(Plotly) { window.PLOTLYENV=window.PLOTLYENV || {};window.PLOTLYENV.BASE_URL=\"https://plot.ly\";\n",
       "if (document.getElementById(\"68389bae-35ec-4aef-914c-3b4c3709b84d\")) {\n",
       "    Plotly.newPlot(\"68389bae-35ec-4aef-914c-3b4c3709b84d\", [{\"hoverinfo\": \"label+percent+name\", \"labels\": [\"winner has lower ranking\", \"winner has higher ranking\"], \"name\": \"CO2 Emissions\", \"textposition\": \"inside\", \"values\": [1093, 3074], \"type\": \"pie\", \"uid\": \"9c39d722-2c1e-4222-9d7e-f11f25f3ceb0\"}], {\"title\": {\"text\": \"Is higher ranking player more likely to win?\"}}, {\"showLink\": true, \"linkText\": \"Export to plot.ly\", \"plotlyServerURL\": \"https://plot.ly\"}); \n",
       "}\n",
       "});</script><script type=\"text/javascript\">window.addEventListener(\"resize\", function(){if (document.getElementById(\"68389bae-35ec-4aef-914c-3b4c3709b84d\")) {window._Plotly.Plots.resize(document.getElementById(\"68389bae-35ec-4aef-914c-3b4c3709b84d\"));};})</script>"
      ]
     },
     "metadata": {},
     "output_type": "display_data"
    }
   ],
   "source": [
    "# Create figure object plotly\n",
    "fig2 =go.Figure( {\n",
    "    \"data\": [\n",
    "      {\n",
    "      \"values\": [no, yes],\n",
    "      \"labels\": ['winner has lower ranking','winner has higher ranking'],\n",
    "      \"textposition\":\"inside\",\n",
    "      \n",
    "      \"name\": \"CO2 Emissions\",\n",
    "      \"hoverinfo\":\"label+percent+name\",\n",
    "      \"type\": \"pie\"\n",
    "    }],\n",
    "    \n",
    "    \"layout\": {\n",
    "        \"title\":\"Is higher ranking player more likely to win?\",\n",
    "        \n",
    "    }\n",
    "})\n",
    "\n",
    "fig2.iplot(filename='piechart')\n"
   ]
  },
  {
   "cell_type": "code",
   "execution_count": 73,
   "metadata": {},
   "outputs": [],
   "source": [
    "# Count the Non-Na value across each row meaning the number of set played in a match\n",
    "set_play=scores_without_ret[['1st_set','2nd_set','3rd_set','4th_set','5th_set']].count(axis=1)\n",
    "\n",
    "scores_without_ret['set_played']=set_play\n",
    "#scores_without_ret.groupby(['set_played']).count()\n",
    "\n",
    "\n",
    "valid_match=scores_without_ret[(scores_without_ret.set_played>=3) & (scores_without_ret.winner_rank<=50) & (scores_without_ret.loser_rank<=50)]\n",
    "valid_match['rank_difference']=valid_match.loser_rank-valid_match.winner_rank\n"
   ]
  },
  {
   "cell_type": "code",
   "execution_count": 74,
   "metadata": {},
   "outputs": [],
   "source": [
    "valid_match_plot=valid_match[['set_played','rank_difference']]"
   ]
  },
  {
   "cell_type": "code",
   "execution_count": 77,
   "metadata": {},
   "outputs": [],
   "source": [
    "valid_match_plot['rank_difference']=valid_match_plot['rank_difference'].abs()"
   ]
  },
  {
   "cell_type": "code",
   "execution_count": 80,
   "metadata": {},
   "outputs": [],
   "source": [
    "valid_match_plot['bin']=pd.cut(valid_match_plot['rank_difference'],5,labels=['<10','<20','<30','<40','<50'])\n"
   ]
  },
  {
   "cell_type": "code",
   "execution_count": 85,
   "metadata": {},
   "outputs": [],
   "source": [
    "v=valid_match_plot.groupby(['bin']).mean().reset_index()"
   ]
  },
  {
   "cell_type": "code",
   "execution_count": 91,
   "metadata": {},
   "outputs": [
    {
     "data": {
      "text/plain": [
       "<matplotlib.axes._subplots.AxesSubplot at 0x1c1ffd4d68>"
      ]
     },
     "execution_count": 91,
     "metadata": {},
     "output_type": "execute_result"
    },
    {
     "data": {
      "image/png": "[encoded data removed]",
      "text/plain": [
       "<Figure size 432x288 with 1 Axes>"
      ]
     },
     "metadata": {
      "needs_background": "light"
     },
     "output_type": "display_data"
    }
   ],
   "source": [
    "sns.regplot(x=v['rank_difference'],y=v['set_played'],data=v)"
   ]
  },
  {
   "cell_type": "code",
   "execution_count": 87,
   "metadata": {},
   "outputs": [
    {
     "data": {
      "text/html": [
       "<div>\n",
       "<style scoped>\n",
       "    .dataframe tbody tr th:only-of-type {\n",
       "        vertical-align: middle;\n",
       "    }\n",
       "\n",
       "    .dataframe tbody tr th {\n",
       "        vertical-align: top;\n",
       "    }\n",
       "\n",
       "    .dataframe thead th {\n",
       "        text-align: right;\n",
       "    }\n",
       "</style>\n",
       "<table border=\"1\" class=\"dataframe\">\n",
       "  <thead>\n",
       "    <tr style=\"text-align: right;\">\n",
       "      <th></th>\n",
       "      <th>rank_difference</th>\n",
       "      <th>set_played</th>\n",
       "    </tr>\n",
       "  </thead>\n",
       "  <tbody>\n",
       "    <tr>\n",
       "      <th>rank_difference</th>\n",
       "      <td>1.000000</td>\n",
       "      <td>-0.984863</td>\n",
       "    </tr>\n",
       "    <tr>\n",
       "      <th>set_played</th>\n",
       "      <td>-0.984863</td>\n",
       "      <td>1.000000</td>\n",
       "    </tr>\n",
       "  </tbody>\n",
       "</table>\n",
       "</div>"
      ],
      "text/plain": [
       "                 rank_difference  set_played\n",
       "rank_difference         1.000000   -0.984863\n",
       "set_played             -0.984863    1.000000"
      ]
     },
     "execution_count": 87,
     "metadata": {},
     "output_type": "execute_result"
    }
   ],
   "source": [
    "v[['rank_difference','set_played']].corr()"
   ]
  },
  {
   "cell_type": "code",
   "execution_count": 66,
   "metadata": {},
   "outputs": [
    {
     "name": "stderr",
     "output_type": "stream",
     "text": [
      "/anaconda3/lib/python3.7/site-packages/scipy/stats/stats.py:1713: FutureWarning:\n",
      "\n",
      "Using a non-tuple sequence for multidimensional indexing is deprecated; use `arr[tuple(seq)]` instead of `arr[seq]`. In the future this will be interpreted as an array index, `arr[np.array(seq)]`, which will result either in an error or a different result.\n",
      "\n"
     ]
    },
    {
     "data": {
      "text/plain": [
       "<matplotlib.axes._subplots.AxesSubplot at 0x1c1e9f7898>"
      ]
     },
     "execution_count": 66,
     "metadata": {},
     "output_type": "execute_result"
    },
    {
     "data": {
      "image/png": "[encoded data removed]",
      "text/plain": [
       "<Figure size 360x360 with 1 Axes>"
      ]
     },
     "metadata": {
      "needs_background": "light"
     },
     "output_type": "display_data"
    }
   ],
   "source": [
    "plt.figure(figsize=(5,5))\n",
    "sns.regplot(x='set_played',y='rank_difference',data=valid_match)"
   ]
  },
  {
   "cell_type": "code",
   "execution_count": null,
   "metadata": {},
   "outputs": [],
   "source": []
  },
  {
   "cell_type": "code",
   "execution_count": null,
   "metadata": {},
   "outputs": [],
   "source": []
  },
  {
   "cell_type": "markdown",
   "metadata": {},
   "source": [
    "## breakpoint percentage"
   ]
  },
  {
   "cell_type": "code",
   "execution_count": null,
   "metadata": {},
   "outputs": [],
   "source": [
    "scores_without_ret['winner_break_point_percentage']=(scores_without_ret.w_bpSaved/scores_without_ret.w_bpFaced).round(2)"
   ]
  },
  {
   "cell_type": "code",
   "execution_count": null,
   "metadata": {},
   "outputs": [],
   "source": [
    "scores_without_ret['loser_break_point_percentage']=(scores_without_ret.l_bpSaved/scores_without_ret.l_bpFaced).round(2)"
   ]
  },
  {
   "cell_type": "code",
   "execution_count": null,
   "metadata": {},
   "outputs": [],
   "source": [
    "bp_over_ten=scores_without_ret[(scores_without_ret['l_bpFaced']>10) & (scores_without_ret['w_bpFaced']>10)]"
   ]
  },
  {
   "cell_type": "code",
   "execution_count": null,
   "metadata": {},
   "outputs": [],
   "source": [
    "scores_without_ret"
   ]
  },
  {
   "cell_type": "code",
   "execution_count": null,
   "metadata": {},
   "outputs": [],
   "source": []
  }
 ],
 "metadata": {
  "kernelspec": {
   "display_name": "Python 3",
   "language": "python",
   "name": "python3"
  },
  "language_info": {
   "codemirror_mode": {
    "name": "ipython",
    "version": 3
   },
   "file_extension": ".py",
   "mimetype": "text/x-python",
   "name": "python",
   "nbconvert_exporter": "python",
   "pygments_lexer": "ipython3",
   "version": "3.7.1"
  }
 },
 "nbformat": 4,
 "nbformat_minor": 2
}
