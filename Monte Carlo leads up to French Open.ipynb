{
 "cells": [
  {
   "cell_type": "code",
   "execution_count": 101,
   "metadata": {},
   "outputs": [],
   "source": [
    "import os\n",
    "import glob\n",
    "import pandas as pd\n",
    "import matplotlib.pyplot as plt\n",
    "import seaborn as sns\n",
    "\n",
    "data=pd.read_csv('/Users/johnngai/Desktop/final_project/ATP_matches_past_10_years_record/atp_matches_record_past_10_years.csv')\n",
    "\n",
    "# Data in year 2017 has inconsistent values in column 'tourney_name' with the rest of the years\n",
    "data.replace({'tourney_name':'Monte Carlo'}, value='Monte Carlo Masters', inplace=True)\n"
   ]
  },
  {
   "cell_type": "code",
   "execution_count": 102,
   "metadata": {},
   "outputs": [],
   "source": [
    "two_data=data[((data['tourney_name']=='Monte Carlo Masters') | (data['tourney_name']=='Roland Garros')) & (data['round'].isin(['F','SF','QF','R16','R32','R64']))]"
   ]
  },
  {
   "cell_type": "code",
   "execution_count": 146,
   "metadata": {},
   "outputs": [
    {
     "data": {
      "text/plain": [
       "858       9.0\n",
       "859       9.0\n",
       "860      14.0\n",
       "861       7.0\n",
       "862      11.0\n",
       "863      15.0\n",
       "864      16.0\n",
       "865       9.0\n",
       "866      14.0\n",
       "867      15.0\n",
       "868      11.0\n",
       "869      10.0\n",
       "870      15.0\n",
       "871      12.0\n",
       "872       NaN\n",
       "873       8.0\n",
       "874       8.0\n",
       "875      12.0\n",
       "876      18.0\n",
       "877      14.0\n",
       "878       9.0\n",
       "879      11.0\n",
       "880      12.0\n",
       "881      14.0\n",
       "882       8.0\n",
       "883       9.0\n",
       "884      13.0\n",
       "885      15.0\n",
       "886      10.0\n",
       "887      10.0\n",
       "         ... \n",
       "68539    17.0\n",
       "68540    15.0\n",
       "68541     8.0\n",
       "68542     7.0\n",
       "68543    11.0\n",
       "68544    12.0\n",
       "68545    14.0\n",
       "68546    13.0\n",
       "68547    11.0\n",
       "68548    10.0\n",
       "68549     8.0\n",
       "68550    11.0\n",
       "68551     9.0\n",
       "68552    10.0\n",
       "68553     7.0\n",
       "68554     8.0\n",
       "68555     9.0\n",
       "68556     NaN\n",
       "68557    10.0\n",
       "68558    14.0\n",
       "68559     9.0\n",
       "68560    13.0\n",
       "68561     7.0\n",
       "68562    11.0\n",
       "68563    10.0\n",
       "68564    14.0\n",
       "68565    13.0\n",
       "68566    10.0\n",
       "68567    10.0\n",
       "68568    15.0\n",
       "Name: w_SvGms, Length: 3226, dtype: float64"
      ]
     },
     "execution_count": 146,
     "metadata": {},
     "output_type": "execute_result"
    }
   ],
   "source": [
    "two_data['w_SvGms']"
   ]
  },
  {
   "cell_type": "code",
   "execution_count": 134,
   "metadata": {},
   "outputs": [
    {
     "name": "stdout",
     "output_type": "stream",
     "text": [
      "<class 'pandas.core.frame.DataFrame'>\n",
      "Int64Index: 3226 entries, 858 to 68568\n",
      "Data columns (total 49 columns):\n",
      "tourney_id            3226 non-null object\n",
      "tourney_name          3226 non-null object\n",
      "surface               3226 non-null object\n",
      "draw_size             3226 non-null float64\n",
      "tourney_level         3226 non-null object\n",
      "tourney_date          3226 non-null float64\n",
      "match_num             3226 non-null float64\n",
      "winner_id             3226 non-null float64\n",
      "winner_seed           2254 non-null float64\n",
      "winner_entry          210 non-null object\n",
      "winner_name           3226 non-null object\n",
      "winner_hand           3226 non-null object\n",
      "winner_ht             3070 non-null float64\n",
      "winner_ioc            3226 non-null object\n",
      "winner_age            3226 non-null float64\n",
      "winner_rank           3224 non-null float64\n",
      "winner_rank_points    3224 non-null float64\n",
      "loser_id              3226 non-null float64\n",
      "loser_seed            1120 non-null float64\n",
      "loser_entry           454 non-null object\n",
      "loser_name            3226 non-null object\n",
      "loser_hand            3226 non-null object\n",
      "loser_ht              2888 non-null float64\n",
      "loser_ioc             3226 non-null object\n",
      "loser_age             3226 non-null float64\n",
      "loser_rank            3224 non-null float64\n",
      "loser_rank_points     3224 non-null float64\n",
      "score                 3226 non-null object\n",
      "best_of               3226 non-null float64\n",
      "round                 3226 non-null object\n",
      "minutes               3177 non-null float64\n",
      "w_ace                 3207 non-null float64\n",
      "w_df                  3207 non-null float64\n",
      "w_svpt                3207 non-null float64\n",
      "w_1stIn               3207 non-null float64\n",
      "w_1stWon              3207 non-null float64\n",
      "w_2ndWon              3207 non-null float64\n",
      "w_SvGms               3207 non-null float64\n",
      "w_bpSaved             3207 non-null float64\n",
      "w_bpFaced             3207 non-null float64\n",
      "l_ace                 3207 non-null float64\n",
      "l_df                  3207 non-null float64\n",
      "l_svpt                3207 non-null float64\n",
      "l_1stIn               3207 non-null float64\n",
      "l_1stWon              3207 non-null float64\n",
      "l_2ndWon              3207 non-null float64\n",
      "l_SvGms               3207 non-null float64\n",
      "l_bpSaved             3207 non-null float64\n",
      "l_bpFaced             3207 non-null float64\n",
      "dtypes: float64(35), object(14)\n",
      "memory usage: 1.2+ MB\n"
     ]
    }
   ],
   "source": [
    "two_data.info()"
   ]
  },
  {
   "cell_type": "code",
   "execution_count": 135,
   "metadata": {},
   "outputs": [],
   "source": [
    "two_data.replace({'round': {'F': 'W', 'SF': 'W', 'QF':'L', 'R16':'L', 'R32':'L', 'R64':'L'}},inplace=True)\n"
   ]
  },
  {
   "cell_type": "code",
   "execution_count": 136,
   "metadata": {},
   "outputs": [
    {
     "data": {
      "text/plain": [
       "858      W\n",
       "859      W\n",
       "860      W\n",
       "861      L\n",
       "862      L\n",
       "863      L\n",
       "864      L\n",
       "865      L\n",
       "866      L\n",
       "867      L\n",
       "868      L\n",
       "869      L\n",
       "870      L\n",
       "871      L\n",
       "872      L\n",
       "873      L\n",
       "874      L\n",
       "875      L\n",
       "876      L\n",
       "877      L\n",
       "878      L\n",
       "879      L\n",
       "880      L\n",
       "881      L\n",
       "882      L\n",
       "883      L\n",
       "884      L\n",
       "885      L\n",
       "886      L\n",
       "887      L\n",
       "        ..\n",
       "68539    L\n",
       "68540    L\n",
       "68541    L\n",
       "68542    L\n",
       "68543    L\n",
       "68544    L\n",
       "68545    L\n",
       "68546    L\n",
       "68547    L\n",
       "68548    L\n",
       "68549    L\n",
       "68550    L\n",
       "68551    L\n",
       "68552    L\n",
       "68553    L\n",
       "68554    L\n",
       "68555    L\n",
       "68556    L\n",
       "68557    L\n",
       "68558    L\n",
       "68559    L\n",
       "68560    L\n",
       "68561    L\n",
       "68562    L\n",
       "68563    L\n",
       "68564    L\n",
       "68565    L\n",
       "68566    W\n",
       "68567    W\n",
       "68568    W\n",
       "Name: round, Length: 3226, dtype: object"
      ]
     },
     "execution_count": 136,
     "metadata": {},
     "output_type": "execute_result"
    }
   ],
   "source": [
    "two_data['round']"
   ]
  },
  {
   "cell_type": "code",
   "execution_count": 137,
   "metadata": {},
   "outputs": [
    {
     "name": "stderr",
     "output_type": "stream",
     "text": [
      "/anaconda3/lib/python3.7/site-packages/ipykernel_launcher.py:1: SettingWithCopyWarning: \n",
      "A value is trying to be set on a copy of a slice from a DataFrame.\n",
      "Try using .loc[row_indexer,col_indexer] = value instead\n",
      "\n",
      "See the caveats in the documentation: http://pandas.pydata.org/pandas-docs/stable/indexing.html#indexing-view-versus-copy\n",
      "  \"\"\"Entry point for launching an IPython kernel.\n"
     ]
    }
   ],
   "source": [
    "two_data['tourney_id']=two_data['tourney_id'].astype(str).apply(lambda x: x.split('-')[0])"
   ]
  },
  {
   "cell_type": "code",
   "execution_count": 138,
   "metadata": {},
   "outputs": [],
   "source": [
    "roland=two_data[(two_data['tourney_name']=='Roland Garros')&(two_data['tourney_id']=='2018')]['winner_name'].unique()"
   ]
  },
  {
   "cell_type": "code",
   "execution_count": 139,
   "metadata": {},
   "outputs": [
    {
     "data": {
      "text/plain": [
       "array(['Rafael Nadal', 'Richard Gasquet', 'Maximilian Marterer',\n",
       "       'Jurgen Zopp', 'Diego Sebastian Schwartzman', 'Borna Coric',\n",
       "       'Mischa Zverev', 'Kevin Anderson', 'Marin Cilic', 'Steve Johnson',\n",
       "       'Fabio Fognini', 'Kyle Edmund', 'John Isner',\n",
       "       'Pierre Hugues Herbert', 'Albert Ramos', 'Juan Martin Del Potro',\n",
       "       'David Goffin', 'Gael Monfils', 'Marco Cecchinato',\n",
       "       'Pablo Carreno Busta', 'Roberto Bautista Agut', 'Novak Djokovic',\n",
       "       'Fernando Verdasco', 'Grigor Dimitrov', 'Dominic Thiem',\n",
       "       'Matteo Berrettini', 'Kei Nishikori', 'Gilles Simon',\n",
       "       'Lucas Pouille', 'Karen Khachanov', 'Damir Dzumhur',\n",
       "       'Alexander Zverev'], dtype=object)"
      ]
     },
     "execution_count": 139,
     "metadata": {},
     "output_type": "execute_result"
    }
   ],
   "source": [
    "roland"
   ]
  },
  {
   "cell_type": "code",
   "execution_count": 140,
   "metadata": {},
   "outputs": [],
   "source": [
    "monte=two_data[(two_data['tourney_name']=='Monte Carlo Masters')&(two_data['tourney_id']=='2018')]['winner_name'].unique()"
   ]
  },
  {
   "cell_type": "code",
   "execution_count": 141,
   "metadata": {},
   "outputs": [
    {
     "data": {
      "text/plain": [
       "array(['Rafael Nadal', 'Kei Nishikori', 'Grigor Dimitrov',\n",
       "       'Alexander Zverev', 'Dominic Thiem', 'David Goffin',\n",
       "       'Richard Gasquet', 'Marin Cilic', 'Karen Khachanov',\n",
       "       'Novak Djokovic', 'Philipp Kohlschreiber', 'Roberto Bautista Agut',\n",
       "       'Mischa Zverev', 'Jan Lennard Struff', 'Andreas Seppi',\n",
       "       'Milos Raonic', 'Aljaz Bedene', 'Gilles Simon', 'Borna Coric',\n",
       "       'Andrey Rublev', 'Pierre Hugues Herbert', 'Albert Ramos',\n",
       "       'Feliciano Lopez', 'Stefanos Tsitsipas',\n",
       "       'Diego Sebastian Schwartzman', 'Fabio Fognini', 'Gilles Muller',\n",
       "       'Daniil Medvedev', 'Marco Cecchinato', 'Fernando Verdasco'],\n",
       "      dtype=object)"
      ]
     },
     "execution_count": 141,
     "metadata": {},
     "output_type": "execute_result"
    }
   ],
   "source": [
    "monte"
   ]
  },
  {
   "cell_type": "code",
   "execution_count": 142,
   "metadata": {},
   "outputs": [],
   "source": [
    "def intersection(lst1, lst2): \n",
    "    return [value for value in lst1 if value in lst2] \n",
    "    "
   ]
  },
  {
   "cell_type": "code",
   "execution_count": 143,
   "metadata": {},
   "outputs": [],
   "source": [
    "common=intersection(monte,roland)"
   ]
  },
  {
   "cell_type": "code",
   "execution_count": 144,
   "metadata": {},
   "outputs": [],
   "source": [
    "common_df=two_data[two_data['tourney_id']=='2018']"
   ]
  },
  {
   "cell_type": "code",
   "execution_count": 151,
   "metadata": {},
   "outputs": [
    {
     "name": "stderr",
     "output_type": "stream",
     "text": [
      "/anaconda3/lib/python3.7/site-packages/ipykernel_launcher.py:1: SettingWithCopyWarning: \n",
      "A value is trying to be set on a copy of a slice from a DataFrame.\n",
      "Try using .loc[row_indexer,col_indexer] = value instead\n",
      "\n",
      "See the caveats in the documentation: http://pandas.pydata.org/pandas-docs/stable/indexing.html#indexing-view-versus-copy\n",
      "  \"\"\"Entry point for launching an IPython kernel.\n"
     ]
    }
   ],
   "source": [
    "common_df['bp_percentage']=common_df.w_bpSaved/common_df.w_bpFaced"
   ]
  },
  {
   "cell_type": "code",
   "execution_count": 156,
   "metadata": {},
   "outputs": [],
   "source": [
    "useful_columns=['winner_name','winner_ht','winner_age','winner_rank','winner_rank_points','w_ace', 'w_df','w_1stWon','w_2ndWon', 'w_SvGms', 'bp_percentage']"
   ]
  },
  {
   "cell_type": "code",
   "execution_count": 157,
   "metadata": {},
   "outputs": [],
   "source": [
    "classifier=common_df[useful_columns].groupby('winner_name').mean()"
   ]
  },
  {
   "cell_type": "code",
   "execution_count": 158,
   "metadata": {},
   "outputs": [],
   "source": [
    "corr=classifier.corr()"
   ]
  },
  {
   "cell_type": "code",
   "execution_count": 159,
   "metadata": {},
   "outputs": [
    {
     "data": {
      "text/plain": [
       "<matplotlib.axes._subplots.AxesSubplot at 0x12118a978>"
      ]
     },
     "execution_count": 159,
     "metadata": {},
     "output_type": "execute_result"
    },
    {
     "data": {
      "image/png": "[encoded data removed]",
      "text/plain": [
       "<Figure size 1440x1440 with 2 Axes>"
      ]
     },
     "metadata": {
      "needs_background": "light"
     },
     "output_type": "display_data"
    }
   ],
   "source": [
    "plt.figure(figsize=(20,20))\n",
    "sns.heatmap(corr,vmin=0)\n",
    "\n"
   ]
  },
  {
   "cell_type": "code",
   "execution_count": null,
   "metadata": {},
   "outputs": [],
   "source": []
  },
  {
   "cell_type": "code",
   "execution_count": null,
   "metadata": {},
   "outputs": [],
   "source": [
    "import xgboost as xgb\n",
    "from sklearn.model_selection import train_test_split\n",
    "\n",
    "\n",
    "xgb_model=xgb.XGBClassifier()\n",
    "\n",
    "x_train, x_test, y_train, y_test=train_test_split()\n",
    "\n",
    "\n"
   ]
  },
  {
   "cell_type": "code",
   "execution_count": null,
   "metadata": {},
   "outputs": [],
   "source": []
  }
 ],
 "metadata": {
  "kernelspec": {
   "display_name": "Python 3",
   "language": "python",
   "name": "python3"
  },
  "language_info": {
   "codemirror_mode": {
    "name": "ipython",
    "version": 3
   },
   "file_extension": ".py",
   "mimetype": "text/x-python",
   "name": "python",
   "nbconvert_exporter": "python",
   "pygments_lexer": "ipython3",
   "version": "3.7.1"
  }
 },
 "nbformat": 4,
 "nbformat_minor": 2
}
