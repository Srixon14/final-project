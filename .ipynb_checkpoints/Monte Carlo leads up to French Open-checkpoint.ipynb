{
 "cells": [
  {
   "cell_type": "code",
   "execution_count": 48,
   "metadata": {},
   "outputs": [],
   "source": [
    "import os\n",
    "import glob\n",
    "import pandas as pd\n",
    "\n",
    "data=pd.read_csv('/Users/johnngai/Desktop/final_project/ATP_matches_past_10_years_record/atp_matches_record_past_10_years.csv')\n",
    "data.replace({'tourney_name':'Monte Carlo'}, value='Monte Carlo Masters', inplace=True)\n",
    "#grand_slam.to_csv('grand_slam_past_10_years.csv',index=False, encoding='utf-8-sig', columns=column_order)"
   ]
  },
  {
   "cell_type": "code",
   "execution_count": 58,
   "metadata": {},
   "outputs": [
    {
     "data": {
      "text/plain": [
       "array(['Australian Open', 'Roland Garros', 'Wimbledon', 'Us Open',\n",
       "       'US Open'], dtype=object)"
      ]
     },
     "execution_count": 58,
     "metadata": {},
     "output_type": "execute_result"
    }
   ],
   "source": [
    "data[data['tourney_level']=='G']['tourney_name'].unique()"
   ]
  },
  {
   "cell_type": "code",
   "execution_count": 49,
   "metadata": {},
   "outputs": [],
   "source": [
    "# Filter for Monte Carlo Masters records\n",
    "monte_carlo=data[data.tourney_name=='Monte Carlo Masters']"
   ]
  },
  {
   "cell_type": "code",
   "execution_count": 63,
   "metadata": {},
   "outputs": [],
   "source": [
    "# Concatenate data of two clay tournaments\n",
    "two_tournament=pd.concat([monte_carlo,french_open],ignore_index=True)"
   ]
  },
  {
   "cell_type": "code",
   "execution_count": 66,
   "metadata": {},
   "outputs": [
    {
     "data": {
      "text/plain": [
       "Roland Garros          9779\n",
       "Monte Carlo Masters    1815\n",
       "Name: tourney_name, dtype: int64"
      ]
     },
     "execution_count": 66,
     "metadata": {},
     "output_type": "execute_result"
    }
   ],
   "source": [
    "# Roland Garros: 9779; Monte Carlo Masters:1815\n",
    "two_tournament['tourney_name'].value_counts()"
   ]
  },
  {
   "cell_type": "code",
   "execution_count": 70,
   "metadata": {},
   "outputs": [],
   "source": [
    "# Export two_tournaments to a csv files\n",
    "two_tournament.to_csv('two_clay_tournaments_analysis.csv', index=False, encoding='utf-8-sig', )"
   ]
  },
  {
   "cell_type": "code",
   "execution_count": 72,
   "metadata": {},
   "outputs": [
    {
     "data": {
      "text/plain": [
       "array(['2018-0410', '2008-410', '2009-410', '2010-410', '2011-410',\n",
       "       '2013-410', '2012-410', '2016-0410', '2017-0410', '2015-410',\n",
       "       '2014-410', '2018-520', '2008-520', '2009-520', '2010-520',\n",
       "       '2011-520', '2013-520', '2012-520', '2016-520', '2017-520',\n",
       "       '2015-520', '2014-520'], dtype=object)"
      ]
     },
     "execution_count": 72,
     "metadata": {},
     "output_type": "execute_result"
    }
   ],
   "source": [
    "clay=pd.read_csv('two_clay_tournaments_analysis.csv')\n",
    "clay['tourney_id'].unique()"
   ]
  },
  {
   "cell_type": "code",
   "execution_count": null,
   "metadata": {},
   "outputs": [],
   "source": []
  }
 ],
 "metadata": {
  "kernelspec": {
   "display_name": "Python 3",
   "language": "python",
   "name": "python3"
  },
  "language_info": {
   "codemirror_mode": {
    "name": "ipython",
    "version": 3
   },
   "file_extension": ".py",
   "mimetype": "text/x-python",
   "name": "python",
   "nbconvert_exporter": "python",
   "pygments_lexer": "ipython3",
   "version": "3.7.1"
  }
 },
 "nbformat": 4,
 "nbformat_minor": 2
}
